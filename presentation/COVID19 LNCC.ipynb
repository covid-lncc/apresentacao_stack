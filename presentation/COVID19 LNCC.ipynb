{
 "cells": [
  {
   "cell_type": "markdown",
   "metadata": {
    "slideshow": {
     "slide_type": "slide"
    }
   },
   "source": [
    "# Utilizando uma stack científica em Python para a modelagem computacional, calibração e quantificação de incertezas da epidemia do COVID-19"
   ]
  },
  {
   "cell_type": "markdown",
   "metadata": {},
   "source": [
    "**Diego T. Volpatto**\n",
    "\n",
    "Laboratório Nacional de Computação Científica"
   ]
  },
  {
   "cell_type": "markdown",
   "metadata": {
    "slideshow": {
     "slide_type": "slide"
    }
   },
   "source": [
    "## O que iremos ver hoje?\n",
    "\n",
    "* Como ler e visualizar dados da COVID-19 com `pandas` e `matplotlib`\n",
    "* Como implementar um modelo de EDO com a `numpy` e solucioná-lo com a `scipy`\n",
    "* Como fazer um ajustes de mínimos quadrados de um modelo computacional genérico utilizando *Differential Evolution* da `scipy`\n",
    "* Como descobrir os parâmetros mais influentes do modelo utilizando o método de *Elementary Effects* com a `SALib`\n",
    "\n",
    "## O que fica para uma parte 2?\n",
    "\n",
    "* Como calibrar parâmetros de um modelo com abordagem Bayesiana utilizando o `pymc3`\n",
    "* Como simular realizações com os parâmetros calibrados em cenários preditivos com o `pymc3` (*forward propagation*)"
   ]
  },
  {
   "cell_type": "markdown",
   "metadata": {
    "slideshow": {
     "slide_type": "slide"
    }
   },
   "source": [
    "## E com qual objetivo?"
   ]
  },
  {
   "cell_type": "markdown",
   "metadata": {
    "cell_style": "split",
    "slideshow": {
     "slide_type": "-"
    }
   },
   "source": [
    "### Contextos\n",
    "\n",
    "* Entender as tecnologias utilizadas\n",
    "* Por qual motivo foram aplicadas\n",
    "* E onde são aplicadas"
   ]
  },
  {
   "cell_type": "markdown",
   "metadata": {
    "cell_style": "split",
    "slideshow": {
     "slide_type": "-"
    }
   },
   "source": [
    "### Conversar\n",
    "\n",
    "* Isso não é uma \"apresentação\", mas sim uma demonstração\n",
    "* Por favor, **interrompa/participe** sempre que quiser!"
   ]
  },
  {
   "cell_type": "markdown",
   "metadata": {
    "slideshow": {
     "slide_type": "slide"
    }
   },
   "source": [
    "## Leitura e pré-tratamento dos dados"
   ]
  },
  {
   "cell_type": "markdown",
   "metadata": {
    "slideshow": {
     "slide_type": "subslide"
    }
   },
   "source": [
    "## Leitura e pré-tratamento dos dados"
   ]
  },
  {
   "cell_type": "markdown",
   "metadata": {},
   "source": [
    "### De onde são os dados?\n",
    "* Importante etapa, visto que os dados de COVID-19 são disponibilizados (às vezes nem sempre) pelo [Ministério da Saúde](https://covid.saude.gov.br/)\n",
    "* São disponibilizados em formato `csv`"
   ]
  },
  {
   "cell_type": "markdown",
   "metadata": {},
   "source": [
    "### Como incorporar os dados em Python?\n",
    "\n",
    "* `pandas` é a sua amiga para essa tarefa\n",
    "* É uma biblioteca **open source** de **Análise de Dados** bastante respeitada\n",
    "* Bem otimizada, com partes do processamento implementado em linguagem C"
   ]
  },
  {
   "cell_type": "markdown",
   "metadata": {
    "slideshow": {
     "slide_type": "subslide"
    }
   },
   "source": [
    "### Vamos ver em ação"
   ]
  },
  {
   "cell_type": "markdown",
   "metadata": {
    "cell_style": "split",
    "slideshow": {
     "slide_type": "-"
    }
   },
   "source": [
    "* Estrutura básica: `DataFrame`\n",
    "* Armazena informação tabular\n",
    "* Capaz de selecionar quais colunas utilizar, ler datas e etc\n",
    "* Consegue ler vários tipos de arquivos de dados, aqui usamos `pandas.read_csv`"
   ]
  },
  {
   "cell_type": "code",
   "execution_count": 1,
   "metadata": {
    "cell_style": "split",
    "slideshow": {
     "slide_type": "-"
    }
   },
   "outputs": [
    {
     "data": {
      "text/html": [
       "<div>\n",
       "<style scoped>\n",
       "    .dataframe tbody tr th:only-of-type {\n",
       "        vertical-align: middle;\n",
       "    }\n",
       "\n",
       "    .dataframe tbody tr th {\n",
       "        vertical-align: top;\n",
       "    }\n",
       "\n",
       "    .dataframe thead th {\n",
       "        text-align: right;\n",
       "    }\n",
       "</style>\n",
       "<table border=\"1\" class=\"dataframe\">\n",
       "  <thead>\n",
       "    <tr style=\"text-align: right;\">\n",
       "      <th></th>\n",
       "      <th>date</th>\n",
       "      <th>state</th>\n",
       "      <th>deaths</th>\n",
       "      <th>totalCases</th>\n",
       "      <th>recovered</th>\n",
       "    </tr>\n",
       "  </thead>\n",
       "  <tbody>\n",
       "    <tr>\n",
       "      <th>0</th>\n",
       "      <td>2020-02-25</td>\n",
       "      <td>SP</td>\n",
       "      <td>0</td>\n",
       "      <td>1</td>\n",
       "      <td>NaN</td>\n",
       "    </tr>\n",
       "    <tr>\n",
       "      <th>1</th>\n",
       "      <td>2020-02-25</td>\n",
       "      <td>TOTAL</td>\n",
       "      <td>0</td>\n",
       "      <td>1</td>\n",
       "      <td>NaN</td>\n",
       "    </tr>\n",
       "    <tr>\n",
       "      <th>2</th>\n",
       "      <td>2020-02-26</td>\n",
       "      <td>SP</td>\n",
       "      <td>0</td>\n",
       "      <td>1</td>\n",
       "      <td>NaN</td>\n",
       "    </tr>\n",
       "    <tr>\n",
       "      <th>3</th>\n",
       "      <td>2020-02-26</td>\n",
       "      <td>TOTAL</td>\n",
       "      <td>0</td>\n",
       "      <td>1</td>\n",
       "      <td>NaN</td>\n",
       "    </tr>\n",
       "    <tr>\n",
       "      <th>4</th>\n",
       "      <td>2020-02-27</td>\n",
       "      <td>SP</td>\n",
       "      <td>0</td>\n",
       "      <td>1</td>\n",
       "      <td>NaN</td>\n",
       "    </tr>\n",
       "    <tr>\n",
       "      <th>...</th>\n",
       "      <td>...</td>\n",
       "      <td>...</td>\n",
       "      <td>...</td>\n",
       "      <td>...</td>\n",
       "      <td>...</td>\n",
       "    </tr>\n",
       "    <tr>\n",
       "      <th>1409</th>\n",
       "      <td>2020-05-01</td>\n",
       "      <td>SC</td>\n",
       "      <td>50</td>\n",
       "      <td>2104</td>\n",
       "      <td>NaN</td>\n",
       "    </tr>\n",
       "    <tr>\n",
       "      <th>1410</th>\n",
       "      <td>2020-05-01</td>\n",
       "      <td>SE</td>\n",
       "      <td>14</td>\n",
       "      <td>517</td>\n",
       "      <td>45.0</td>\n",
       "    </tr>\n",
       "    <tr>\n",
       "      <th>1411</th>\n",
       "      <td>2020-05-01</td>\n",
       "      <td>SP</td>\n",
       "      <td>2511</td>\n",
       "      <td>30374</td>\n",
       "      <td>1524.0</td>\n",
       "    </tr>\n",
       "    <tr>\n",
       "      <th>1412</th>\n",
       "      <td>2020-05-01</td>\n",
       "      <td>TO</td>\n",
       "      <td>3</td>\n",
       "      <td>191</td>\n",
       "      <td>31.0</td>\n",
       "    </tr>\n",
       "    <tr>\n",
       "      <th>1413</th>\n",
       "      <td>2020-05-01</td>\n",
       "      <td>TOTAL</td>\n",
       "      <td>6359</td>\n",
       "      <td>92667</td>\n",
       "      <td>19328.0</td>\n",
       "    </tr>\n",
       "  </tbody>\n",
       "</table>\n",
       "<p>1414 rows × 5 columns</p>\n",
       "</div>"
      ],
      "text/plain": [
       "           date  state  deaths  totalCases  recovered\n",
       "0    2020-02-25     SP       0           1        NaN\n",
       "1    2020-02-25  TOTAL       0           1        NaN\n",
       "2    2020-02-26     SP       0           1        NaN\n",
       "3    2020-02-26  TOTAL       0           1        NaN\n",
       "4    2020-02-27     SP       0           1        NaN\n",
       "...         ...    ...     ...         ...        ...\n",
       "1409 2020-05-01     SC      50        2104        NaN\n",
       "1410 2020-05-01     SE      14         517       45.0\n",
       "1411 2020-05-01     SP    2511       30374     1524.0\n",
       "1412 2020-05-01     TO       3         191       31.0\n",
       "1413 2020-05-01  TOTAL    6359       92667    19328.0\n",
       "\n",
       "[1414 rows x 5 columns]"
      ]
     },
     "execution_count": 1,
     "metadata": {},
     "output_type": "execute_result"
    }
   ],
   "source": [
    "import pandas as pd\n",
    "\n",
    "import os\n",
    "\n",
    "pd.options.mode.chained_assignment = None\n",
    "DATA_PATH = os.environ[\"DATA_DIR\"]\n",
    "\n",
    "df_brazil_states_cases = pd.read_csv(\n",
    "    f\"{DATA_PATH}/cases-brazil-states.csv\",\n",
    "    usecols=[\"date\", \"state\", \"totalCases\", \"deaths\", \"recovered\"],\n",
    "    parse_dates=[\"date\"],\n",
    ")\n",
    "\n",
    "df_brazil_states_cases"
   ]
  },
  {
   "cell_type": "markdown",
   "metadata": {
    "slideshow": {
     "slide_type": "subslide"
    }
   },
   "source": [
    "Podemos facilmente tratar e limpar os dados"
   ]
  },
  {
   "cell_type": "code",
   "execution_count": 2,
   "metadata": {},
   "outputs": [],
   "source": [
    "df_brazil_states_cases.fillna(value={\"recovered\": 0}, inplace=True)\n",
    "\n",
    "df_brazil_states_cases = df_brazil_states_cases[df_brazil_states_cases.state != \"TOTAL\"]"
   ]
  },
  {
   "cell_type": "markdown",
   "metadata": {},
   "source": [
    "Função para filtrar dados apenas de um certo estado:"
   ]
  },
  {
   "cell_type": "code",
   "execution_count": 3,
   "metadata": {},
   "outputs": [],
   "source": [
    "def get_brazil_state_dataframe(\n",
    "    df_brazil: pd.DataFrame, state_name: str, confirmed_lower_threshold: int = 5\n",
    ") -> pd.DataFrame:\n",
    "    df_brazil = df_brazil.copy()\n",
    "    df_state_cases = df_brazil[df_brazil.state == state_name]\n",
    "    df_state_cases.reset_index(drop=True, inplace=True)\n",
    "    columns_rename = {\"totalCases\": \"confirmed\"}\n",
    "    df_state_cases.rename(columns=columns_rename, inplace=True)\n",
    "    df_state_cases[\"active\"] = (\n",
    "        df_state_cases[\"confirmed\"] - df_state_cases[\"deaths\"] - df_state_cases[\"recovered\"]\n",
    "    )\n",
    "\n",
    "    df_state_cases = df_state_cases[df_state_cases.confirmed > confirmed_lower_threshold]\n",
    "    day_range_list = list(range(len(df_state_cases.confirmed)))\n",
    "    df_state_cases[\"day\"] = day_range_list\n",
    "    df_state_cases.reset_index(drop=True, inplace=True)\n",
    "    \n",
    "    return df_state_cases"
   ]
  },
  {
   "cell_type": "markdown",
   "metadata": {
    "slideshow": {
     "slide_type": "subslide"
    }
   },
   "source": [
    "E então, podemos pegar os dados do RJ, por exemplo:"
   ]
  },
  {
   "cell_type": "code",
   "execution_count": 4,
   "metadata": {},
   "outputs": [
    {
     "data": {
      "text/html": [
       "<div>\n",
       "<style scoped>\n",
       "    .dataframe tbody tr th:only-of-type {\n",
       "        vertical-align: middle;\n",
       "    }\n",
       "\n",
       "    .dataframe tbody tr th {\n",
       "        vertical-align: top;\n",
       "    }\n",
       "\n",
       "    .dataframe thead th {\n",
       "        text-align: right;\n",
       "    }\n",
       "</style>\n",
       "<table border=\"1\" class=\"dataframe\">\n",
       "  <thead>\n",
       "    <tr style=\"text-align: right;\">\n",
       "      <th></th>\n",
       "      <th>date</th>\n",
       "      <th>state</th>\n",
       "      <th>deaths</th>\n",
       "      <th>confirmed</th>\n",
       "      <th>recovered</th>\n",
       "      <th>active</th>\n",
       "      <th>day</th>\n",
       "    </tr>\n",
       "  </thead>\n",
       "  <tbody>\n",
       "    <tr>\n",
       "      <th>0</th>\n",
       "      <td>2020-03-10</td>\n",
       "      <td>RJ</td>\n",
       "      <td>0</td>\n",
       "      <td>8</td>\n",
       "      <td>0.0</td>\n",
       "      <td>8.0</td>\n",
       "      <td>0</td>\n",
       "    </tr>\n",
       "    <tr>\n",
       "      <th>1</th>\n",
       "      <td>2020-03-11</td>\n",
       "      <td>RJ</td>\n",
       "      <td>0</td>\n",
       "      <td>13</td>\n",
       "      <td>0.0</td>\n",
       "      <td>13.0</td>\n",
       "      <td>1</td>\n",
       "    </tr>\n",
       "    <tr>\n",
       "      <th>2</th>\n",
       "      <td>2020-03-12</td>\n",
       "      <td>RJ</td>\n",
       "      <td>0</td>\n",
       "      <td>16</td>\n",
       "      <td>0.0</td>\n",
       "      <td>16.0</td>\n",
       "      <td>2</td>\n",
       "    </tr>\n",
       "    <tr>\n",
       "      <th>3</th>\n",
       "      <td>2020-03-13</td>\n",
       "      <td>RJ</td>\n",
       "      <td>0</td>\n",
       "      <td>16</td>\n",
       "      <td>0.0</td>\n",
       "      <td>16.0</td>\n",
       "      <td>3</td>\n",
       "    </tr>\n",
       "    <tr>\n",
       "      <th>4</th>\n",
       "      <td>2020-03-14</td>\n",
       "      <td>RJ</td>\n",
       "      <td>0</td>\n",
       "      <td>22</td>\n",
       "      <td>0.0</td>\n",
       "      <td>22.0</td>\n",
       "      <td>4</td>\n",
       "    </tr>\n",
       "    <tr>\n",
       "      <th>5</th>\n",
       "      <td>2020-03-15</td>\n",
       "      <td>RJ</td>\n",
       "      <td>0</td>\n",
       "      <td>24</td>\n",
       "      <td>0.0</td>\n",
       "      <td>24.0</td>\n",
       "      <td>5</td>\n",
       "    </tr>\n",
       "    <tr>\n",
       "      <th>6</th>\n",
       "      <td>2020-03-16</td>\n",
       "      <td>RJ</td>\n",
       "      <td>0</td>\n",
       "      <td>31</td>\n",
       "      <td>0.0</td>\n",
       "      <td>31.0</td>\n",
       "      <td>6</td>\n",
       "    </tr>\n",
       "    <tr>\n",
       "      <th>7</th>\n",
       "      <td>2020-03-17</td>\n",
       "      <td>RJ</td>\n",
       "      <td>0</td>\n",
       "      <td>33</td>\n",
       "      <td>0.0</td>\n",
       "      <td>33.0</td>\n",
       "      <td>7</td>\n",
       "    </tr>\n",
       "    <tr>\n",
       "      <th>8</th>\n",
       "      <td>2020-03-18</td>\n",
       "      <td>RJ</td>\n",
       "      <td>0</td>\n",
       "      <td>63</td>\n",
       "      <td>0.0</td>\n",
       "      <td>63.0</td>\n",
       "      <td>8</td>\n",
       "    </tr>\n",
       "    <tr>\n",
       "      <th>9</th>\n",
       "      <td>2020-03-19</td>\n",
       "      <td>RJ</td>\n",
       "      <td>2</td>\n",
       "      <td>66</td>\n",
       "      <td>0.0</td>\n",
       "      <td>64.0</td>\n",
       "      <td>9</td>\n",
       "    </tr>\n",
       "    <tr>\n",
       "      <th>10</th>\n",
       "      <td>2020-03-20</td>\n",
       "      <td>RJ</td>\n",
       "      <td>2</td>\n",
       "      <td>109</td>\n",
       "      <td>0.0</td>\n",
       "      <td>107.0</td>\n",
       "      <td>10</td>\n",
       "    </tr>\n",
       "    <tr>\n",
       "      <th>11</th>\n",
       "      <td>2020-03-21</td>\n",
       "      <td>RJ</td>\n",
       "      <td>3</td>\n",
       "      <td>119</td>\n",
       "      <td>0.0</td>\n",
       "      <td>116.0</td>\n",
       "      <td>11</td>\n",
       "    </tr>\n",
       "    <tr>\n",
       "      <th>12</th>\n",
       "      <td>2020-03-22</td>\n",
       "      <td>RJ</td>\n",
       "      <td>3</td>\n",
       "      <td>186</td>\n",
       "      <td>0.0</td>\n",
       "      <td>183.0</td>\n",
       "      <td>12</td>\n",
       "    </tr>\n",
       "    <tr>\n",
       "      <th>13</th>\n",
       "      <td>2020-03-23</td>\n",
       "      <td>RJ</td>\n",
       "      <td>4</td>\n",
       "      <td>233</td>\n",
       "      <td>0.0</td>\n",
       "      <td>229.0</td>\n",
       "      <td>13</td>\n",
       "    </tr>\n",
       "    <tr>\n",
       "      <th>14</th>\n",
       "      <td>2020-03-24</td>\n",
       "      <td>RJ</td>\n",
       "      <td>6</td>\n",
       "      <td>305</td>\n",
       "      <td>1.0</td>\n",
       "      <td>298.0</td>\n",
       "      <td>14</td>\n",
       "    </tr>\n",
       "    <tr>\n",
       "      <th>15</th>\n",
       "      <td>2020-03-25</td>\n",
       "      <td>RJ</td>\n",
       "      <td>8</td>\n",
       "      <td>370</td>\n",
       "      <td>1.0</td>\n",
       "      <td>361.0</td>\n",
       "      <td>15</td>\n",
       "    </tr>\n",
       "    <tr>\n",
       "      <th>16</th>\n",
       "      <td>2020-03-26</td>\n",
       "      <td>RJ</td>\n",
       "      <td>9</td>\n",
       "      <td>421</td>\n",
       "      <td>1.0</td>\n",
       "      <td>411.0</td>\n",
       "      <td>16</td>\n",
       "    </tr>\n",
       "    <tr>\n",
       "      <th>17</th>\n",
       "      <td>2020-03-27</td>\n",
       "      <td>RJ</td>\n",
       "      <td>10</td>\n",
       "      <td>493</td>\n",
       "      <td>1.0</td>\n",
       "      <td>482.0</td>\n",
       "      <td>17</td>\n",
       "    </tr>\n",
       "    <tr>\n",
       "      <th>18</th>\n",
       "      <td>2020-03-28</td>\n",
       "      <td>RJ</td>\n",
       "      <td>13</td>\n",
       "      <td>558</td>\n",
       "      <td>1.0</td>\n",
       "      <td>544.0</td>\n",
       "      <td>18</td>\n",
       "    </tr>\n",
       "    <tr>\n",
       "      <th>19</th>\n",
       "      <td>2020-03-29</td>\n",
       "      <td>RJ</td>\n",
       "      <td>17</td>\n",
       "      <td>600</td>\n",
       "      <td>1.0</td>\n",
       "      <td>582.0</td>\n",
       "      <td>19</td>\n",
       "    </tr>\n",
       "    <tr>\n",
       "      <th>20</th>\n",
       "      <td>2020-03-30</td>\n",
       "      <td>RJ</td>\n",
       "      <td>18</td>\n",
       "      <td>657</td>\n",
       "      <td>1.0</td>\n",
       "      <td>638.0</td>\n",
       "      <td>20</td>\n",
       "    </tr>\n",
       "    <tr>\n",
       "      <th>21</th>\n",
       "      <td>2020-03-31</td>\n",
       "      <td>RJ</td>\n",
       "      <td>23</td>\n",
       "      <td>708</td>\n",
       "      <td>1.0</td>\n",
       "      <td>684.0</td>\n",
       "      <td>21</td>\n",
       "    </tr>\n",
       "    <tr>\n",
       "      <th>22</th>\n",
       "      <td>2020-04-01</td>\n",
       "      <td>RJ</td>\n",
       "      <td>28</td>\n",
       "      <td>832</td>\n",
       "      <td>1.0</td>\n",
       "      <td>803.0</td>\n",
       "      <td>22</td>\n",
       "    </tr>\n",
       "    <tr>\n",
       "      <th>23</th>\n",
       "      <td>2020-04-02</td>\n",
       "      <td>RJ</td>\n",
       "      <td>41</td>\n",
       "      <td>992</td>\n",
       "      <td>1.0</td>\n",
       "      <td>950.0</td>\n",
       "      <td>23</td>\n",
       "    </tr>\n",
       "    <tr>\n",
       "      <th>24</th>\n",
       "      <td>2020-04-03</td>\n",
       "      <td>RJ</td>\n",
       "      <td>47</td>\n",
       "      <td>1074</td>\n",
       "      <td>1.0</td>\n",
       "      <td>1026.0</td>\n",
       "      <td>24</td>\n",
       "    </tr>\n",
       "    <tr>\n",
       "      <th>25</th>\n",
       "      <td>2020-04-04</td>\n",
       "      <td>RJ</td>\n",
       "      <td>58</td>\n",
       "      <td>1246</td>\n",
       "      <td>1.0</td>\n",
       "      <td>1187.0</td>\n",
       "      <td>25</td>\n",
       "    </tr>\n",
       "    <tr>\n",
       "      <th>26</th>\n",
       "      <td>2020-04-05</td>\n",
       "      <td>RJ</td>\n",
       "      <td>64</td>\n",
       "      <td>1394</td>\n",
       "      <td>1.0</td>\n",
       "      <td>1329.0</td>\n",
       "      <td>26</td>\n",
       "    </tr>\n",
       "    <tr>\n",
       "      <th>27</th>\n",
       "      <td>2020-04-06</td>\n",
       "      <td>RJ</td>\n",
       "      <td>71</td>\n",
       "      <td>1461</td>\n",
       "      <td>1.0</td>\n",
       "      <td>1389.0</td>\n",
       "      <td>27</td>\n",
       "    </tr>\n",
       "    <tr>\n",
       "      <th>28</th>\n",
       "      <td>2020-04-07</td>\n",
       "      <td>RJ</td>\n",
       "      <td>89</td>\n",
       "      <td>1688</td>\n",
       "      <td>1.0</td>\n",
       "      <td>1598.0</td>\n",
       "      <td>28</td>\n",
       "    </tr>\n",
       "    <tr>\n",
       "      <th>29</th>\n",
       "      <td>2020-04-08</td>\n",
       "      <td>RJ</td>\n",
       "      <td>106</td>\n",
       "      <td>1938</td>\n",
       "      <td>183.0</td>\n",
       "      <td>1649.0</td>\n",
       "      <td>29</td>\n",
       "    </tr>\n",
       "    <tr>\n",
       "      <th>30</th>\n",
       "      <td>2020-04-09</td>\n",
       "      <td>RJ</td>\n",
       "      <td>122</td>\n",
       "      <td>2216</td>\n",
       "      <td>183.0</td>\n",
       "      <td>1911.0</td>\n",
       "      <td>30</td>\n",
       "    </tr>\n",
       "    <tr>\n",
       "      <th>31</th>\n",
       "      <td>2020-04-10</td>\n",
       "      <td>RJ</td>\n",
       "      <td>147</td>\n",
       "      <td>2464</td>\n",
       "      <td>248.0</td>\n",
       "      <td>2069.0</td>\n",
       "      <td>31</td>\n",
       "    </tr>\n",
       "    <tr>\n",
       "      <th>32</th>\n",
       "      <td>2020-04-11</td>\n",
       "      <td>RJ</td>\n",
       "      <td>155</td>\n",
       "      <td>2607</td>\n",
       "      <td>248.0</td>\n",
       "      <td>2204.0</td>\n",
       "      <td>32</td>\n",
       "    </tr>\n",
       "    <tr>\n",
       "      <th>33</th>\n",
       "      <td>2020-04-12</td>\n",
       "      <td>RJ</td>\n",
       "      <td>170</td>\n",
       "      <td>2855</td>\n",
       "      <td>251.0</td>\n",
       "      <td>2434.0</td>\n",
       "      <td>33</td>\n",
       "    </tr>\n",
       "    <tr>\n",
       "      <th>34</th>\n",
       "      <td>2020-04-13</td>\n",
       "      <td>RJ</td>\n",
       "      <td>188</td>\n",
       "      <td>3231</td>\n",
       "      <td>271.0</td>\n",
       "      <td>2772.0</td>\n",
       "      <td>34</td>\n",
       "    </tr>\n",
       "    <tr>\n",
       "      <th>35</th>\n",
       "      <td>2020-04-14</td>\n",
       "      <td>RJ</td>\n",
       "      <td>224</td>\n",
       "      <td>3410</td>\n",
       "      <td>271.0</td>\n",
       "      <td>2915.0</td>\n",
       "      <td>35</td>\n",
       "    </tr>\n",
       "    <tr>\n",
       "      <th>36</th>\n",
       "      <td>2020-04-15</td>\n",
       "      <td>RJ</td>\n",
       "      <td>265</td>\n",
       "      <td>3743</td>\n",
       "      <td>863.0</td>\n",
       "      <td>2615.0</td>\n",
       "      <td>36</td>\n",
       "    </tr>\n",
       "    <tr>\n",
       "      <th>37</th>\n",
       "      <td>2020-04-16</td>\n",
       "      <td>RJ</td>\n",
       "      <td>301</td>\n",
       "      <td>3944</td>\n",
       "      <td>863.0</td>\n",
       "      <td>2780.0</td>\n",
       "      <td>37</td>\n",
       "    </tr>\n",
       "    <tr>\n",
       "      <th>38</th>\n",
       "      <td>2020-04-17</td>\n",
       "      <td>RJ</td>\n",
       "      <td>341</td>\n",
       "      <td>4349</td>\n",
       "      <td>870.0</td>\n",
       "      <td>3138.0</td>\n",
       "      <td>38</td>\n",
       "    </tr>\n",
       "    <tr>\n",
       "      <th>39</th>\n",
       "      <td>2020-04-18</td>\n",
       "      <td>RJ</td>\n",
       "      <td>387</td>\n",
       "      <td>4543</td>\n",
       "      <td>870.0</td>\n",
       "      <td>3286.0</td>\n",
       "      <td>39</td>\n",
       "    </tr>\n",
       "    <tr>\n",
       "      <th>40</th>\n",
       "      <td>2020-04-19</td>\n",
       "      <td>RJ</td>\n",
       "      <td>402</td>\n",
       "      <td>4765</td>\n",
       "      <td>1119.0</td>\n",
       "      <td>3244.0</td>\n",
       "      <td>40</td>\n",
       "    </tr>\n",
       "    <tr>\n",
       "      <th>41</th>\n",
       "      <td>2020-04-20</td>\n",
       "      <td>RJ</td>\n",
       "      <td>422</td>\n",
       "      <td>4899</td>\n",
       "      <td>1369.0</td>\n",
       "      <td>3108.0</td>\n",
       "      <td>41</td>\n",
       "    </tr>\n",
       "    <tr>\n",
       "      <th>42</th>\n",
       "      <td>2020-04-21</td>\n",
       "      <td>RJ</td>\n",
       "      <td>461</td>\n",
       "      <td>5306</td>\n",
       "      <td>1580.0</td>\n",
       "      <td>3265.0</td>\n",
       "      <td>42</td>\n",
       "    </tr>\n",
       "    <tr>\n",
       "      <th>43</th>\n",
       "      <td>2020-04-22</td>\n",
       "      <td>RJ</td>\n",
       "      <td>490</td>\n",
       "      <td>5552</td>\n",
       "      <td>1775.0</td>\n",
       "      <td>3287.0</td>\n",
       "      <td>43</td>\n",
       "    </tr>\n",
       "    <tr>\n",
       "      <th>44</th>\n",
       "      <td>2020-04-23</td>\n",
       "      <td>RJ</td>\n",
       "      <td>530</td>\n",
       "      <td>6172</td>\n",
       "      <td>1888.0</td>\n",
       "      <td>3754.0</td>\n",
       "      <td>44</td>\n",
       "    </tr>\n",
       "    <tr>\n",
       "      <th>45</th>\n",
       "      <td>2020-04-24</td>\n",
       "      <td>RJ</td>\n",
       "      <td>570</td>\n",
       "      <td>6282</td>\n",
       "      <td>2518.0</td>\n",
       "      <td>3194.0</td>\n",
       "      <td>45</td>\n",
       "    </tr>\n",
       "    <tr>\n",
       "      <th>46</th>\n",
       "      <td>2020-04-25</td>\n",
       "      <td>RJ</td>\n",
       "      <td>615</td>\n",
       "      <td>6828</td>\n",
       "      <td>3144.0</td>\n",
       "      <td>3069.0</td>\n",
       "      <td>46</td>\n",
       "    </tr>\n",
       "    <tr>\n",
       "      <th>47</th>\n",
       "      <td>2020-04-26</td>\n",
       "      <td>RJ</td>\n",
       "      <td>645</td>\n",
       "      <td>7111</td>\n",
       "      <td>3144.0</td>\n",
       "      <td>3322.0</td>\n",
       "      <td>47</td>\n",
       "    </tr>\n",
       "    <tr>\n",
       "      <th>48</th>\n",
       "      <td>2020-04-27</td>\n",
       "      <td>RJ</td>\n",
       "      <td>677</td>\n",
       "      <td>7944</td>\n",
       "      <td>3650.0</td>\n",
       "      <td>3617.0</td>\n",
       "      <td>48</td>\n",
       "    </tr>\n",
       "    <tr>\n",
       "      <th>49</th>\n",
       "      <td>2020-04-28</td>\n",
       "      <td>RJ</td>\n",
       "      <td>738</td>\n",
       "      <td>8504</td>\n",
       "      <td>4002.0</td>\n",
       "      <td>3764.0</td>\n",
       "      <td>49</td>\n",
       "    </tr>\n",
       "    <tr>\n",
       "      <th>50</th>\n",
       "      <td>2020-04-29</td>\n",
       "      <td>RJ</td>\n",
       "      <td>794</td>\n",
       "      <td>8869</td>\n",
       "      <td>4002.0</td>\n",
       "      <td>4073.0</td>\n",
       "      <td>50</td>\n",
       "    </tr>\n",
       "    <tr>\n",
       "      <th>51</th>\n",
       "      <td>2020-04-30</td>\n",
       "      <td>RJ</td>\n",
       "      <td>854</td>\n",
       "      <td>9453</td>\n",
       "      <td>5032.0</td>\n",
       "      <td>3567.0</td>\n",
       "      <td>51</td>\n",
       "    </tr>\n",
       "    <tr>\n",
       "      <th>52</th>\n",
       "      <td>2020-05-01</td>\n",
       "      <td>RJ</td>\n",
       "      <td>921</td>\n",
       "      <td>10166</td>\n",
       "      <td>5711.0</td>\n",
       "      <td>3534.0</td>\n",
       "      <td>52</td>\n",
       "    </tr>\n",
       "  </tbody>\n",
       "</table>\n",
       "</div>"
      ],
      "text/plain": [
       "         date state  deaths  confirmed  recovered  active  day\n",
       "0  2020-03-10    RJ       0          8        0.0     8.0    0\n",
       "1  2020-03-11    RJ       0         13        0.0    13.0    1\n",
       "2  2020-03-12    RJ       0         16        0.0    16.0    2\n",
       "3  2020-03-13    RJ       0         16        0.0    16.0    3\n",
       "4  2020-03-14    RJ       0         22        0.0    22.0    4\n",
       "5  2020-03-15    RJ       0         24        0.0    24.0    5\n",
       "6  2020-03-16    RJ       0         31        0.0    31.0    6\n",
       "7  2020-03-17    RJ       0         33        0.0    33.0    7\n",
       "8  2020-03-18    RJ       0         63        0.0    63.0    8\n",
       "9  2020-03-19    RJ       2         66        0.0    64.0    9\n",
       "10 2020-03-20    RJ       2        109        0.0   107.0   10\n",
       "11 2020-03-21    RJ       3        119        0.0   116.0   11\n",
       "12 2020-03-22    RJ       3        186        0.0   183.0   12\n",
       "13 2020-03-23    RJ       4        233        0.0   229.0   13\n",
       "14 2020-03-24    RJ       6        305        1.0   298.0   14\n",
       "15 2020-03-25    RJ       8        370        1.0   361.0   15\n",
       "16 2020-03-26    RJ       9        421        1.0   411.0   16\n",
       "17 2020-03-27    RJ      10        493        1.0   482.0   17\n",
       "18 2020-03-28    RJ      13        558        1.0   544.0   18\n",
       "19 2020-03-29    RJ      17        600        1.0   582.0   19\n",
       "20 2020-03-30    RJ      18        657        1.0   638.0   20\n",
       "21 2020-03-31    RJ      23        708        1.0   684.0   21\n",
       "22 2020-04-01    RJ      28        832        1.0   803.0   22\n",
       "23 2020-04-02    RJ      41        992        1.0   950.0   23\n",
       "24 2020-04-03    RJ      47       1074        1.0  1026.0   24\n",
       "25 2020-04-04    RJ      58       1246        1.0  1187.0   25\n",
       "26 2020-04-05    RJ      64       1394        1.0  1329.0   26\n",
       "27 2020-04-06    RJ      71       1461        1.0  1389.0   27\n",
       "28 2020-04-07    RJ      89       1688        1.0  1598.0   28\n",
       "29 2020-04-08    RJ     106       1938      183.0  1649.0   29\n",
       "30 2020-04-09    RJ     122       2216      183.0  1911.0   30\n",
       "31 2020-04-10    RJ     147       2464      248.0  2069.0   31\n",
       "32 2020-04-11    RJ     155       2607      248.0  2204.0   32\n",
       "33 2020-04-12    RJ     170       2855      251.0  2434.0   33\n",
       "34 2020-04-13    RJ     188       3231      271.0  2772.0   34\n",
       "35 2020-04-14    RJ     224       3410      271.0  2915.0   35\n",
       "36 2020-04-15    RJ     265       3743      863.0  2615.0   36\n",
       "37 2020-04-16    RJ     301       3944      863.0  2780.0   37\n",
       "38 2020-04-17    RJ     341       4349      870.0  3138.0   38\n",
       "39 2020-04-18    RJ     387       4543      870.0  3286.0   39\n",
       "40 2020-04-19    RJ     402       4765     1119.0  3244.0   40\n",
       "41 2020-04-20    RJ     422       4899     1369.0  3108.0   41\n",
       "42 2020-04-21    RJ     461       5306     1580.0  3265.0   42\n",
       "43 2020-04-22    RJ     490       5552     1775.0  3287.0   43\n",
       "44 2020-04-23    RJ     530       6172     1888.0  3754.0   44\n",
       "45 2020-04-24    RJ     570       6282     2518.0  3194.0   45\n",
       "46 2020-04-25    RJ     615       6828     3144.0  3069.0   46\n",
       "47 2020-04-26    RJ     645       7111     3144.0  3322.0   47\n",
       "48 2020-04-27    RJ     677       7944     3650.0  3617.0   48\n",
       "49 2020-04-28    RJ     738       8504     4002.0  3764.0   49\n",
       "50 2020-04-29    RJ     794       8869     4002.0  4073.0   50\n",
       "51 2020-04-30    RJ     854       9453     5032.0  3567.0   51\n",
       "52 2020-05-01    RJ     921      10166     5711.0  3534.0   52"
      ]
     },
     "execution_count": 4,
     "metadata": {},
     "output_type": "execute_result"
    }
   ],
   "source": [
    "df_rj_state_cases = get_brazil_state_dataframe(df_brazil_states_cases, state_name=\"RJ\")\n",
    "\n",
    "df_rj_state_cases"
   ]
  },
  {
   "cell_type": "markdown",
   "metadata": {
    "slideshow": {
     "slide_type": "subslide"
    }
   },
   "source": [
    "Porém, esses dados estão desatualizados. Vamos ler o `csv` com dados atualizados já tratados:"
   ]
  },
  {
   "cell_type": "code",
   "execution_count": 5,
   "metadata": {},
   "outputs": [
    {
     "data": {
      "text/plain": [
       "0           8\n",
       "1          13\n",
       "2          16\n",
       "3          16\n",
       "4          22\n",
       "        ...  \n",
       "188    242810\n",
       "189    244418\n",
       "190    246182\n",
       "191    246843\n",
       "192    249798\n",
       "Name: cases, Length: 193, dtype: int64"
      ]
     },
     "execution_count": 5,
     "metadata": {},
     "output_type": "execute_result"
    }
   ],
   "source": [
    "df_rj_state_cases = pd.read_csv(\n",
    "    f\"{DATA_PATH}/rio_covid19.csv\",\n",
    "    usecols=[\"date\", \"day\", \"cases\", \"deaths\", \"recoveries\"],\n",
    "    parse_dates=[\"date\"],\n",
    ")\n",
    "\n",
    "columns_rename = {\"recoveries\": \"recovered\"}\n",
    "df_rj_state_cases.rename(columns=columns_rename, inplace=True)\n",
    "\n",
    "df_rj_state_cases.cases"
   ]
  },
  {
   "cell_type": "markdown",
   "metadata": {
    "slideshow": {
     "slide_type": "subslide"
    }
   },
   "source": [
    "E facilmente podemos visualizar dados históricos com o `matplotlib`:"
   ]
  },
  {
   "cell_type": "code",
   "execution_count": 6,
   "metadata": {
    "cell_style": "center",
    "slideshow": {
     "slide_type": "-"
    }
   },
   "outputs": [],
   "source": [
    "time_as_days = df_rj_state_cases.day\n",
    "confirmed_cases_rj = df_rj_state_cases.cases\n",
    "deaths_rj = df_rj_state_cases.deaths"
   ]
  },
  {
   "cell_type": "code",
   "execution_count": 7,
   "metadata": {
    "cell_style": "center",
    "slideshow": {
     "slide_type": "-"
    }
   },
   "outputs": [
    {
     "data": {
      "image/png": "[encoded data removed]",
      "text/plain": [
       "<Figure size 576x432 with 1 Axes>"
      ]
     },
     "metadata": {
      "needs_background": "light"
     },
     "output_type": "display_data"
    }
   ],
   "source": [
    "import matplotlib.pyplot as plt\n",
    "\n",
    "plt.style.use(\"seaborn-talk\")  # beautify the plots!\n",
    "\n",
    "plt.figure(figsize=(8, 6))\n",
    "\n",
    "plt.plot(time_as_days, confirmed_cases_rj, \"-X\", label=\"Confirmed cases\")\n",
    "plt.plot(time_as_days, deaths_rj, \"-o\", label=\"Deaths\")\n",
    "\n",
    "plt.xlabel(\"Simulation day\")\n",
    "plt.ylabel(\"Number of Individuals\")\n",
    "\n",
    "plt.legend(shadow=True)\n",
    "plt.grid(True)\n",
    "\n",
    "plt.show()"
   ]
  },
  {
   "cell_type": "markdown",
   "metadata": {
    "slideshow": {
     "slide_type": "subslide"
    }
   },
   "source": [
    "# Perguntas? Comentários?"
   ]
  },
  {
   "cell_type": "markdown",
   "metadata": {
    "slideshow": {
     "slide_type": "slide"
    }
   },
   "source": [
    "## Implementando e solucionando EDOs em Python"
   ]
  },
  {
   "cell_type": "markdown",
   "metadata": {
    "slideshow": {
     "slide_type": "subslide"
    }
   },
   "source": [
    "## Implementando e solucionando EDOs em Python\n",
    "\n",
    "* Nossos modelos são _locais_ e homogeneizados, representados por Equações Diferenciais Ordinárias.\n",
    "* Como fazer isso em Python?\n",
    "* Suas novas amigas (**open source**, nada de black-box): `numpy` e `scipy`\n",
    "* *Hold my beer*"
   ]
  },
  {
   "cell_type": "markdown",
   "metadata": {
    "slideshow": {
     "slide_type": "subslide"
    }
   },
   "source": [
    "Como exemplo inicial, vamos considerar um sistema simples e didático: Lotka-Volterra."
   ]
  },
  {
   "cell_type": "markdown",
   "metadata": {
    "cell_style": "split",
    "slideshow": {
     "slide_type": "-"
    }
   },
   "source": [
    "O sistema de EDOs é definido como:\n",
    "\n",
    "\\begin{equation}\n",
    "\\left\\{\n",
    "\\begin{aligned}\n",
    "\\dot{U} &=r U-a U V \\\\\n",
    "\\dot{V} &=b a U V - m V\n",
    "\\end{aligned}\n",
    "\\right.\n",
    "\\end{equation}\n",
    "\n",
    "sendo $U$ a densidade populacional da presa e $V$ a do predador. Os parâmetros são considerados como constantes e $r, a, b, m > 0$.\n",
    "\n",
    "Para solucionar esse sistema, primeiro devemos definir uma função que represente esse sistema."
   ]
  },
  {
   "cell_type": "markdown",
   "metadata": {
    "cell_style": "split",
    "slideshow": {
     "slide_type": "-"
    }
   },
   "source": [
    "Para solucionar esse sistema, primeiro devemos definir uma função que represente esse sistema."
   ]
  },
  {
   "cell_type": "code",
   "execution_count": 8,
   "metadata": {
    "cell_style": "split",
    "slideshow": {
     "slide_type": "-"
    }
   },
   "outputs": [],
   "source": [
    "import numpy as np  # já vamos colocar esse cara em campo\n",
    "\n",
    "\n",
    "def lotka_volterra_system(\n",
    "    t: float, \n",
    "    X: np.ndarray, \n",
    "    r: float = 1.5, \n",
    "    a: float = 1.0, \n",
    "    b: float = 1.0, \n",
    "    m: float = 3.0\n",
    ") -> tuple:\n",
    "    U, V = X  # unpacking\n",
    "    \n",
    "    dUdt = r * U - a * U * V\n",
    "    dVdt = b * a * U * V - m * V\n",
    "    \n",
    "    return dUdt, dVdt"
   ]
  },
  {
   "cell_type": "markdown",
   "metadata": {
    "slideshow": {
     "slide_type": "subslide"
    }
   },
   "source": [
    "Opcional, porém relevante para alguns casos: `numba`!"
   ]
  },
  {
   "cell_type": "code",
   "execution_count": 9,
   "metadata": {
    "slideshow": {
     "slide_type": "-"
    }
   },
   "outputs": [],
   "source": [
    "from numba import jit\n",
    "\n",
    "@jit(nopython=True)\n",
    "def lotka_volterra_system_numba(\n",
    "    t: float, \n",
    "    X: np.ndarray, \n",
    "    r: float = 1.5, \n",
    "    a: float = 1.0, \n",
    "    b: float = 1.0, \n",
    "    m: float = 3.0\n",
    ") -> tuple:\n",
    "    U, V = X  # unpacking\n",
    "    \n",
    "    dUdt = r * U - a * U * V\n",
    "    dVdt = b * a * U * V - m * V\n",
    "    \n",
    "    return dUdt, dVdt"
   ]
  },
  {
   "cell_type": "markdown",
   "metadata": {
    "slideshow": {
     "slide_type": "subslide"
    }
   },
   "source": [
    "E agora podemos conhecer o solucionador dos nossos problemas: o módulo **integrate** da `scipy`.\n",
    "Dentro dele, temos o `solve_ivp`, que é o que iremos utilizar."
   ]
  },
  {
   "cell_type": "code",
   "execution_count": 10,
   "metadata": {},
   "outputs": [
    {
     "name": "stdout",
     "output_type": "stream",
     "text": [
      "Help on function solve_ivp in module scipy.integrate._ivp.ivp:\n",
      "\n",
      "solve_ivp(fun, t_span, y0, method='RK45', t_eval=None, dense_output=False, events=None, vectorized=False, args=None, **options)\n",
      "    Solve an initial value problem for a system of ODEs.\n",
      "    \n",
      "    This function numerically integrates a system of ordinary differential\n",
      "    equations given an initial value::\n",
      "    \n",
      "        dy / dt = f(t, y)\n",
      "        y(t0) = y0\n",
      "    \n",
      "    Here t is a 1-D independent variable (time), y(t) is an\n",
      "    N-D vector-valued function (state), and an N-D\n",
      "    vector-valued function f(t, y) determines the differential equations.\n",
      "    The goal is to find y(t) approximately satisfying the differential\n",
      "    equations, given an initial value y(t0)=y0.\n",
      "    \n",
      "    Some of the solvers support integration in the complex domain, but note\n",
      "    that for stiff ODE solvers, the right-hand side must be\n",
      "    complex-differentiable (satisfy Cauchy-Riemann equations [11]_).\n",
      "    To solve a problem in the complex domain, pass y0 with a complex data type.\n",
      "    Another option always available is to rewrite your problem for real and\n",
      "    imaginary parts separately.\n",
      "    \n",
      "    Parameters\n",
      "    ----------\n",
      "    fun : callable\n",
      "        Right-hand side of the system. The calling signature is ``fun(t, y)``.\n",
      "        Here `t` is a scalar, and there are two options for the ndarray `y`:\n",
      "        It can either have shape (n,); then `fun` must return array_like with\n",
      "        shape (n,). Alternatively, it can have shape (n, k); then `fun`\n",
      "        must return an array_like with shape (n, k), i.e., each column\n",
      "        corresponds to a single column in `y`. The choice between the two\n",
      "        options is determined by `vectorized` argument (see below). The\n",
      "        vectorized implementation allows a faster approximation of the Jacobian\n",
      "        by finite differences (required for stiff solvers).\n",
      "    t_span : 2-tuple of floats\n",
      "        Interval of integration (t0, tf). The solver starts with t=t0 and\n",
      "        integrates until it reaches t=tf.\n",
      "    y0 : array_like, shape (n,)\n",
      "        Initial state. For problems in the complex domain, pass `y0` with a\n",
      "        complex data type (even if the initial value is purely real).\n",
      "    method : string or `OdeSolver`, optional\n",
      "        Integration method to use:\n",
      "    \n",
      "            * 'RK45' (default): Explicit Runge-Kutta method of order 5(4) [1]_.\n",
      "              The error is controlled assuming accuracy of the fourth-order\n",
      "              method, but steps are taken using the fifth-order accurate\n",
      "              formula (local extrapolation is done). A quartic interpolation\n",
      "              polynomial is used for the dense output [2]_. Can be applied in\n",
      "              the complex domain.\n",
      "            * 'RK23': Explicit Runge-Kutta method of order 3(2) [3]_. The error\n",
      "              is controlled assuming accuracy of the second-order method, but\n",
      "              steps are taken using the third-order accurate formula (local\n",
      "              extrapolation is done). A cubic Hermite polynomial is used for the\n",
      "              dense output. Can be applied in the complex domain.\n",
      "            * 'DOP853': Explicit Runge-Kutta method of order 8 [13]_.\n",
      "              Python implementation of the \"DOP853\" algorithm originally\n",
      "              written in Fortran [14]_. A 7-th order interpolation polynomial\n",
      "              accurate to 7-th order is used for the dense output.\n",
      "              Can be applied in the complex domain.\n",
      "            * 'Radau': Implicit Runge-Kutta method of the Radau IIA family of\n",
      "              order 5 [4]_. The error is controlled with a third-order accurate\n",
      "              embedded formula. A cubic polynomial which satisfies the\n",
      "              collocation conditions is used for the dense output.\n",
      "            * 'BDF': Implicit multi-step variable-order (1 to 5) method based\n",
      "              on a backward differentiation formula for the derivative\n",
      "              approximation [5]_. The implementation follows the one described\n",
      "              in [6]_. A quasi-constant step scheme is used and accuracy is\n",
      "              enhanced using the NDF modification. Can be applied in the\n",
      "              complex domain.\n",
      "            * 'LSODA': Adams/BDF method with automatic stiffness detection and\n",
      "              switching [7]_, [8]_. This is a wrapper of the Fortran solver\n",
      "              from ODEPACK.\n",
      "    \n",
      "        Explicit Runge-Kutta methods ('RK23', 'RK45', 'DOP853') should be used\n",
      "        for non-stiff problems and implicit methods ('Radau', 'BDF') for\n",
      "        stiff problems [9]_. Among Runge-Kutta methods, 'DOP853' is recommended\n",
      "        for solving with high precision (low values of `rtol` and `atol`).\n",
      "    \n",
      "        If not sure, first try to run 'RK45'. If it makes unusually many\n",
      "        iterations, diverges, or fails, your problem is likely to be stiff and\n",
      "        you should use 'Radau' or 'BDF'. 'LSODA' can also be a good universal\n",
      "        choice, but it might be somewhat less convenient to work with as it\n",
      "        wraps old Fortran code.\n",
      "    \n",
      "        You can also pass an arbitrary class derived from `OdeSolver` which\n",
      "        implements the solver.\n",
      "    t_eval : array_like or None, optional\n",
      "        Times at which to store the computed solution, must be sorted and lie\n",
      "        within `t_span`. If None (default), use points selected by the solver.\n",
      "    dense_output : bool, optional\n",
      "        Whether to compute a continuous solution. Default is False.\n",
      "    events : callable, or list of callables, optional\n",
      "        Events to track. If None (default), no events will be tracked.\n",
      "        Each event occurs at the zeros of a continuous function of time and\n",
      "        state. Each function must have the signature ``event(t, y)`` and return\n",
      "        a float. The solver will find an accurate value of `t` at which\n",
      "        ``event(t, y(t)) = 0`` using a root-finding algorithm. By default, all\n",
      "        zeros will be found. The solver looks for a sign change over each step,\n",
      "        so if multiple zero crossings occur within one step, events may be\n",
      "        missed. Additionally each `event` function might have the following\n",
      "        attributes:\n",
      "    \n",
      "            terminal: bool, optional\n",
      "                Whether to terminate integration if this event occurs.\n",
      "                Implicitly False if not assigned.\n",
      "            direction: float, optional\n",
      "                Direction of a zero crossing. If `direction` is positive,\n",
      "                `event` will only trigger when going from negative to positive,\n",
      "                and vice versa if `direction` is negative. If 0, then either\n",
      "                direction will trigger event. Implicitly 0 if not assigned.\n",
      "    \n",
      "        You can assign attributes like ``event.terminal = True`` to any\n",
      "        function in Python.\n",
      "    vectorized : bool, optional\n",
      "        Whether `fun` is implemented in a vectorized fashion. Default is False.\n",
      "    args : tuple, optional\n",
      "        Additional arguments to pass to the user-defined functions.  If given,\n",
      "        the additional arguments are passed to all user-defined functions.\n",
      "        So if, for example, `fun` has the signature ``fun(t, y, a, b, c)``,\n",
      "        then `jac` (if given) and any event functions must have the same\n",
      "        signature, and `args` must be a tuple of length 3.\n",
      "    options\n",
      "        Options passed to a chosen solver. All options available for already\n",
      "        implemented solvers are listed below.\n",
      "    first_step : float or None, optional\n",
      "        Initial step size. Default is `None` which means that the algorithm\n",
      "        should choose.\n",
      "    max_step : float, optional\n",
      "        Maximum allowed step size. Default is np.inf, i.e., the step size is not\n",
      "        bounded and determined solely by the solver.\n",
      "    rtol, atol : float or array_like, optional\n",
      "        Relative and absolute tolerances. The solver keeps the local error\n",
      "        estimates less than ``atol + rtol * abs(y)``. Here `rtol` controls a\n",
      "        relative accuracy (number of correct digits). But if a component of `y`\n",
      "        is approximately below `atol`, the error only needs to fall within\n",
      "        the same `atol` threshold, and the number of correct digits is not\n",
      "        guaranteed. If components of y have different scales, it might be\n",
      "        beneficial to set different `atol` values for different components by\n",
      "        passing array_like with shape (n,) for `atol`. Default values are\n",
      "        1e-3 for `rtol` and 1e-6 for `atol`.\n",
      "    jac : array_like, sparse_matrix, callable or None, optional\n",
      "        Jacobian matrix of the right-hand side of the system with respect\n",
      "        to y, required by the 'Radau', 'BDF' and 'LSODA' method. The\n",
      "        Jacobian matrix has shape (n, n) and its element (i, j) is equal to\n",
      "        ``d f_i / d y_j``.  There are three ways to define the Jacobian:\n",
      "    \n",
      "            * If array_like or sparse_matrix, the Jacobian is assumed to\n",
      "              be constant. Not supported by 'LSODA'.\n",
      "            * If callable, the Jacobian is assumed to depend on both\n",
      "              t and y; it will be called as ``jac(t, y)``, as necessary.\n",
      "              For 'Radau' and 'BDF' methods, the return value might be a\n",
      "              sparse matrix.\n",
      "            * If None (default), the Jacobian will be approximated by\n",
      "              finite differences.\n",
      "    \n",
      "        It is generally recommended to provide the Jacobian rather than\n",
      "        relying on a finite-difference approximation.\n",
      "    jac_sparsity : array_like, sparse matrix or None, optional\n",
      "        Defines a sparsity structure of the Jacobian matrix for a finite-\n",
      "        difference approximation. Its shape must be (n, n). This argument\n",
      "        is ignored if `jac` is not `None`. If the Jacobian has only few\n",
      "        non-zero elements in *each* row, providing the sparsity structure\n",
      "        will greatly speed up the computations [10]_. A zero entry means that\n",
      "        a corresponding element in the Jacobian is always zero. If None\n",
      "        (default), the Jacobian is assumed to be dense.\n",
      "        Not supported by 'LSODA', see `lband` and `uband` instead.\n",
      "    lband, uband : int or None, optional\n",
      "        Parameters defining the bandwidth of the Jacobian for the 'LSODA'\n",
      "        method, i.e., ``jac[i, j] != 0 only for i - lband <= j <= i + uband``.\n",
      "        Default is None. Setting these requires your jac routine to return the\n",
      "        Jacobian in the packed format: the returned array must have ``n``\n",
      "        columns and ``uband + lband + 1`` rows in which Jacobian diagonals are\n",
      "        written. Specifically ``jac_packed[uband + i - j , j] = jac[i, j]``.\n",
      "        The same format is used in `scipy.linalg.solve_banded` (check for an\n",
      "        illustration).  These parameters can be also used with ``jac=None`` to\n",
      "        reduce the number of Jacobian elements estimated by finite differences.\n",
      "    min_step : float, optional\n",
      "        The minimum allowed step size for 'LSODA' method.\n",
      "        By default `min_step` is zero.\n",
      "    \n",
      "    Returns\n",
      "    -------\n",
      "    Bunch object with the following fields defined:\n",
      "    t : ndarray, shape (n_points,)\n",
      "        Time points.\n",
      "    y : ndarray, shape (n, n_points)\n",
      "        Values of the solution at `t`.\n",
      "    sol : `OdeSolution` or None\n",
      "        Found solution as `OdeSolution` instance; None if `dense_output` was\n",
      "        set to False.\n",
      "    t_events : list of ndarray or None\n",
      "        Contains for each event type a list of arrays at which an event of\n",
      "        that type event was detected. None if `events` was None.\n",
      "    y_events : list of ndarray or None\n",
      "        For each value of `t_events`, the corresponding value of the solution.\n",
      "        None if `events` was None.\n",
      "    nfev : int\n",
      "        Number of evaluations of the right-hand side.\n",
      "    njev : int\n",
      "        Number of evaluations of the Jacobian.\n",
      "    nlu : int\n",
      "        Number of LU decompositions.\n",
      "    status : int\n",
      "        Reason for algorithm termination:\n",
      "    \n",
      "            * -1: Integration step failed.\n",
      "            *  0: The solver successfully reached the end of `tspan`.\n",
      "            *  1: A termination event occurred.\n",
      "    \n",
      "    message : string\n",
      "        Human-readable description of the termination reason.\n",
      "    success : bool\n",
      "        True if the solver reached the interval end or a termination event\n",
      "        occurred (``status >= 0``).\n",
      "    \n",
      "    References\n",
      "    ----------\n",
      "    .. [1] J. R. Dormand, P. J. Prince, \"A family of embedded Runge-Kutta\n",
      "           formulae\", Journal of Computational and Applied Mathematics, Vol. 6,\n",
      "           No. 1, pp. 19-26, 1980.\n",
      "    .. [2] L. W. Shampine, \"Some Practical Runge-Kutta Formulas\", Mathematics\n",
      "           of Computation,, Vol. 46, No. 173, pp. 135-150, 1986.\n",
      "    .. [3] P. Bogacki, L.F. Shampine, \"A 3(2) Pair of Runge-Kutta Formulas\",\n",
      "           Appl. Math. Lett. Vol. 2, No. 4. pp. 321-325, 1989.\n",
      "    .. [4] E. Hairer, G. Wanner, \"Solving Ordinary Differential Equations II:\n",
      "           Stiff and Differential-Algebraic Problems\", Sec. IV.8.\n",
      "    .. [5] `Backward Differentiation Formula\n",
      "            <https://en.wikipedia.org/wiki/Backward_differentiation_formula>`_\n",
      "            on Wikipedia.\n",
      "    .. [6] L. F. Shampine, M. W. Reichelt, \"THE MATLAB ODE SUITE\", SIAM J. SCI.\n",
      "           COMPUTE., Vol. 18, No. 1, pp. 1-22, January 1997.\n",
      "    .. [7] A. C. Hindmarsh, \"ODEPACK, A Systematized Collection of ODE\n",
      "           Solvers,\" IMACS Transactions on Scientific Computation, Vol 1.,\n",
      "           pp. 55-64, 1983.\n",
      "    .. [8] L. Petzold, \"Automatic selection of methods for solving stiff and\n",
      "           nonstiff systems of ordinary differential equations\", SIAM Journal\n",
      "           on Scientific and Statistical Computing, Vol. 4, No. 1, pp. 136-148,\n",
      "           1983.\n",
      "    .. [9] `Stiff equation <https://en.wikipedia.org/wiki/Stiff_equation>`_ on\n",
      "           Wikipedia.\n",
      "    .. [10] A. Curtis, M. J. D. Powell, and J. Reid, \"On the estimation of\n",
      "            sparse Jacobian matrices\", Journal of the Institute of Mathematics\n",
      "            and its Applications, 13, pp. 117-120, 1974.\n",
      "    .. [11] `Cauchy-Riemann equations\n",
      "             <https://en.wikipedia.org/wiki/Cauchy-Riemann_equations>`_ on\n",
      "             Wikipedia.\n",
      "    .. [12] `Lotka-Volterra equations\n",
      "            <https://en.wikipedia.org/wiki/Lotka%E2%80%93Volterra_equations>`_\n",
      "            on Wikipedia.\n",
      "    .. [13] E. Hairer, S. P. Norsett G. Wanner, \"Solving Ordinary Differential\n",
      "            Equations I: Nonstiff Problems\", Sec. II.\n",
      "    .. [14] `Page with original Fortran code of DOP853\n",
      "            <http://www.unige.ch/~hairer/software.html>`_.\n",
      "    \n",
      "    Examples\n",
      "    --------\n",
      "    Basic exponential decay showing automatically chosen time points.\n",
      "    \n",
      "    >>> from scipy.integrate import solve_ivp\n",
      "    >>> def exponential_decay(t, y): return -0.5 * y\n",
      "    >>> sol = solve_ivp(exponential_decay, [0, 10], [2, 4, 8])\n",
      "    >>> print(sol.t)\n",
      "    [ 0.          0.11487653  1.26364188  3.06061781  4.81611105  6.57445806\n",
      "      8.33328988 10.        ]\n",
      "    >>> print(sol.y)\n",
      "    [[2.         1.88836035 1.06327177 0.43319312 0.18017253 0.07483045\n",
      "      0.03107158 0.01350781]\n",
      "     [4.         3.7767207  2.12654355 0.86638624 0.36034507 0.14966091\n",
      "      0.06214316 0.02701561]\n",
      "     [8.         7.5534414  4.25308709 1.73277247 0.72069014 0.29932181\n",
      "      0.12428631 0.05403123]]\n",
      "    \n",
      "    Specifying points where the solution is desired.\n",
      "    \n",
      "    >>> sol = solve_ivp(exponential_decay, [0, 10], [2, 4, 8],\n",
      "    ...                 t_eval=[0, 1, 2, 4, 10])\n",
      "    >>> print(sol.t)\n",
      "    [ 0  1  2  4 10]\n",
      "    >>> print(sol.y)\n",
      "    [[2.         1.21305369 0.73534021 0.27066736 0.01350938]\n",
      "     [4.         2.42610739 1.47068043 0.54133472 0.02701876]\n",
      "     [8.         4.85221478 2.94136085 1.08266944 0.05403753]]\n",
      "    \n",
      "    Cannon fired upward with terminal event upon impact. The ``terminal`` and\n",
      "    ``direction`` fields of an event are applied by monkey patching a function.\n",
      "    Here ``y[0]`` is position and ``y[1]`` is velocity. The projectile starts\n",
      "    at position 0 with velocity +10. Note that the integration never reaches\n",
      "    t=100 because the event is terminal.\n",
      "    \n",
      "    >>> def upward_cannon(t, y): return [y[1], -0.5]\n",
      "    >>> def hit_ground(t, y): return y[0]\n",
      "    >>> hit_ground.terminal = True\n",
      "    >>> hit_ground.direction = -1\n",
      "    >>> sol = solve_ivp(upward_cannon, [0, 100], [0, 10], events=hit_ground)\n",
      "    >>> print(sol.t_events)\n",
      "    [array([40.])]\n",
      "    >>> print(sol.t)\n",
      "    [0.00000000e+00 9.99900010e-05 1.09989001e-03 1.10988901e-02\n",
      "     1.11088891e-01 1.11098890e+00 1.11099890e+01 4.00000000e+01]\n",
      "    \n",
      "    Use `dense_output` and `events` to find position, which is 100, at the apex\n",
      "    of the cannonball's trajectory. Apex is not defined as terminal, so both\n",
      "    apex and hit_ground are found. There is no information at t=20, so the sol\n",
      "    attribute is used to evaluate the solution. The sol attribute is returned\n",
      "    by setting ``dense_output=True``. Alternatively, the `y_events` attribute\n",
      "    can be used to access the solution at the time of the event.\n",
      "    \n",
      "    >>> def apex(t, y): return y[1]\n",
      "    >>> sol = solve_ivp(upward_cannon, [0, 100], [0, 10],\n",
      "    ...                 events=(hit_ground, apex), dense_output=True)\n",
      "    >>> print(sol.t_events)\n",
      "    [array([40.]), array([20.])]\n",
      "    >>> print(sol.t)\n",
      "    [0.00000000e+00 9.99900010e-05 1.09989001e-03 1.10988901e-02\n",
      "     1.11088891e-01 1.11098890e+00 1.11099890e+01 4.00000000e+01]\n",
      "    >>> print(sol.sol(sol.t_events[1][0]))\n",
      "    [100.   0.]\n",
      "    >>> print(sol.y_events)\n",
      "    [array([[-5.68434189e-14, -1.00000000e+01]]), array([[1.00000000e+02, 1.77635684e-15]])]\n",
      "    \n",
      "    As an example of a system with additional parameters, we'll implement\n",
      "    the Lotka-Volterra equations [12]_.\n",
      "    \n",
      "    >>> def lotkavolterra(t, z, a, b, c, d):\n",
      "    ...     x, y = z\n",
      "    ...     return [a*x - b*x*y, -c*y + d*x*y]\n",
      "    ...\n",
      "    \n",
      "    We pass in the parameter values a=1.5, b=1, c=3 and d=1 with the `args`\n",
      "    argument.\n",
      "    \n",
      "    >>> sol = solve_ivp(lotkavolterra, [0, 15], [10, 5], args=(1.5, 1, 3, 1),\n",
      "    ...                 dense_output=True)\n",
      "    \n",
      "    Compute a dense solution and plot it.\n",
      "    \n",
      "    >>> t = np.linspace(0, 15, 300)\n",
      "    >>> z = sol.sol(t)\n",
      "    >>> import matplotlib.pyplot as plt\n",
      "    >>> plt.plot(t, z.T)\n",
      "    >>> plt.xlabel('t')\n",
      "    >>> plt.legend(['x', 'y'], shadow=True)\n",
      "    >>> plt.title('Lotka-Volterra System')\n",
      "    >>> plt.show()\n",
      "\n"
     ]
    }
   ],
   "source": [
    "from scipy.integrate import solve_ivp\n",
    "\n",
    "help(solve_ivp)"
   ]
  },
  {
   "cell_type": "markdown",
   "metadata": {
    "slideshow": {
     "slide_type": "subslide"
    }
   },
   "source": [
    "Definindo os inputs que precisamos:"
   ]
  },
  {
   "cell_type": "code",
   "execution_count": 11,
   "metadata": {},
   "outputs": [],
   "source": [
    "t_initial = 0.\n",
    "t_final = 15.\n",
    "t_span = (t_initial, t_final)\n",
    "\n",
    "U0 = 10.\n",
    "V0 = 5.\n",
    "y0 = np.array([U0, V0])  # um array da numpy... vamos falar um pouco dele\n",
    "\n",
    "# Opcional, porém útil\n",
    "num_of_points = 100\n",
    "t_eval = np.linspace(t_initial, t_final, num_of_points)"
   ]
  },
  {
   "cell_type": "markdown",
   "metadata": {},
   "source": [
    "Podemos, então, solucionar o problema:"
   ]
  },
  {
   "cell_type": "code",
   "execution_count": 12,
   "metadata": {},
   "outputs": [],
   "source": [
    "result = solve_ivp(lotka_volterra_system, t_span, y0, t_eval=t_eval, method='LSODA')"
   ]
  },
  {
   "cell_type": "markdown",
   "metadata": {},
   "source": [
    "E a performance (temporal)?"
   ]
  },
  {
   "cell_type": "code",
   "execution_count": 13,
   "metadata": {
    "slideshow": {
     "slide_type": "-"
    }
   },
   "outputs": [
    {
     "name": "stdout",
     "output_type": "stream",
     "text": [
      "10.8 ms ± 139 µs per loop (mean ± std. dev. of 7 runs, 100 loops each)\n"
     ]
    }
   ],
   "source": [
    "%%timeit\n",
    "solve_ivp(lotka_volterra_system, t_span, y0, t_eval=t_eval, method='LSODA')"
   ]
  },
  {
   "cell_type": "markdown",
   "metadata": {
    "slideshow": {
     "slide_type": "subslide"
    }
   },
   "source": [
    "Colhendo os resultados por variável de estado:"
   ]
  },
  {
   "cell_type": "code",
   "execution_count": 14,
   "metadata": {},
   "outputs": [],
   "source": [
    "simulation_time = result.t\n",
    "U_solution, V_solution = result.y"
   ]
  },
  {
   "cell_type": "markdown",
   "metadata": {},
   "source": [
    "Plotando:"
   ]
  },
  {
   "cell_type": "code",
   "execution_count": 15,
   "metadata": {},
   "outputs": [
    {
     "data": {
      "image/png": "[encoded data removed]",
      "text/plain": [
       "<Figure size 648x504 with 1 Axes>"
      ]
     },
     "metadata": {
      "needs_background": "light"
     },
     "output_type": "display_data"
    }
   ],
   "source": [
    "plt.figure(figsize=(9, 7))\n",
    "\n",
    "plt.plot(simulation_time, U_solution, '-X', label='Prey')\n",
    "plt.plot(simulation_time, V_solution, '-s', label='Predator')\n",
    "\n",
    "plt.xlabel(\"Simulation time\")\n",
    "plt.ylabel(\"Population density\")\n",
    "\n",
    "plt.legend(shadow=True)\n",
    "plt.grid(True)\n",
    "\n",
    "plt.show()"
   ]
  },
  {
   "cell_type": "markdown",
   "metadata": {
    "slideshow": {
     "slide_type": "subslide"
    }
   },
   "source": [
    "## E para o COVID-19, como fica?\n",
    "\n",
    "Temos um modelo um tanto quanto mais complicado... mas a adaptação é trivial! Só tem tamanho!"
   ]
  },
  {
   "cell_type": "code",
   "execution_count": 16,
   "metadata": {
    "slideshow": {
     "slide_type": "skip"
    }
   },
   "outputs": [],
   "source": [
    "from IPython.display import IFrame\n",
    "schema_covid = './figures/final_schem_no_eta-crop.pdf'"
   ]
  },
  {
   "cell_type": "code",
   "execution_count": 17,
   "metadata": {
    "cell_style": "split",
    "slideshow": {
     "slide_type": "fragment"
    }
   },
   "outputs": [
    {
     "data": {
      "text/html": [
       "\n",
       "        <iframe\n",
       "            width=\"900\"\n",
       "            height=\"800\"\n",
       "            src=\"./figures/final_schem_no_eta-crop.pdf\"\n",
       "            frameborder=\"0\"\n",
       "            allowfullscreen\n",
       "        ></iframe>\n",
       "        "
      ],
      "text/plain": [
       "<IPython.lib.display.IFrame at 0x7fad01200da0>"
      ]
     },
     "execution_count": 17,
     "metadata": {},
     "output_type": "execute_result"
    }
   ],
   "source": [
    "IFrame(schema_covid, width=900, height=800)"
   ]
  },
  {
   "cell_type": "code",
   "execution_count": 18,
   "metadata": {
    "cell_style": "split",
    "slideshow": {
     "slide_type": "fragment"
    }
   },
   "outputs": [],
   "source": [
    "@jit(nopython=True)\n",
    "def seairpdq_model(\n",
    "    t,\n",
    "    X,\n",
    "    beta0=1e-7,\n",
    "    beta1=1e-7,\n",
    "    mu0=1e-7,\n",
    "    mu1=1e-7,\n",
    "    gamma_I=0.1,\n",
    "    gamma_A=0.15,\n",
    "    gamma_P=0.14,\n",
    "    d_I=0.0105,\n",
    "    d_P=0.003,\n",
    "    omega=1 / 10,\n",
    "    epsilon_I=1 / 3,\n",
    "    rho=0.1,\n",
    "    eta=2e-2,\n",
    "    sigma=1 / 7,\n",
    "    N=1,\n",
    "):\n",
    "    \"\"\"\n",
    "    SEIRPD-Q python implementation.\n",
    "    \"\"\"\n",
    "    S, E, A, I, P, R, D, C, H = X\n",
    "    beta = beta0\n",
    "    mu = mu0\n",
    "    \n",
    "    # The ODE system\n",
    "    S_prime = -beta / N * S * I - mu / N * S * A - omega * S + eta * R\n",
    "    E_prime = beta / N * S * I + mu / N * S * A - sigma * E - omega * E\n",
    "    A_prime = sigma * (1 - rho) * E - gamma_A * A - omega * A\n",
    "    I_prime = sigma * rho * E - gamma_I * I - d_I * I - omega * I - epsilon_I * I\n",
    "    P_prime = epsilon_I * I - gamma_P * P - d_P * P\n",
    "    R_prime = gamma_A * A + gamma_I * I + gamma_P * P + omega * (S + E + A + I) - eta * R\n",
    "    D_prime = d_I * I + d_P * P\n",
    "    # Calibration quantities\n",
    "    C_prime = epsilon_I * I\n",
    "    H_prime = gamma_P * P\n",
    "    return S_prime, E_prime, A_prime, I_prime, P_prime, R_prime, D_prime, C_prime, H_prime"
   ]
  },
  {
   "cell_type": "markdown",
   "metadata": {
    "slideshow": {
     "slide_type": "subslide"
    }
   },
   "source": [
    "Porém, em vez de usar diretamente o `solve_ivp`, vamos criar um \"wrapper\", pois será necessário no futuro."
   ]
  },
  {
   "cell_type": "code",
   "execution_count": 19,
   "metadata": {},
   "outputs": [],
   "source": [
    "def seairpdq_ode_solver(\n",
    "    y0,\n",
    "    t_span,\n",
    "    t_eval,\n",
    "    beta0=1e-7,\n",
    "    omega=1 / 10,\n",
    "    d_P=9e-3,\n",
    "    d_I=2e-4,\n",
    "    gamma_P=1 / 14,\n",
    "    mu0=1e-7,\n",
    "    gamma_I=1 / 14,\n",
    "    gamma_A=1 / 14,\n",
    "    epsilon_I=1 / 3,\n",
    "    rho=0.85,\n",
    "    sigma=1 / 5,\n",
    "    eta=0,\n",
    "    N=1,\n",
    "    beta1=0,\n",
    "    mu1=0,\n",
    "):\n",
    "    mu0 = beta0\n",
    "    solution_ODE = solve_ivp(\n",
    "        fun=lambda t, y: seairpdq_model(\n",
    "            t,\n",
    "            y,\n",
    "            beta0=beta0,\n",
    "            beta1=beta1,\n",
    "            mu0=mu0,\n",
    "            mu1=mu1,\n",
    "            gamma_I=gamma_I,\n",
    "            gamma_A=gamma_A,\n",
    "            gamma_P=gamma_P,\n",
    "            d_I=d_I,\n",
    "            d_P=d_P,\n",
    "            omega=omega,\n",
    "            epsilon_I=epsilon_I,\n",
    "            rho=rho,\n",
    "            eta=eta,\n",
    "            sigma=sigma,\n",
    "            N=N,\n",
    "        ),\n",
    "        t_span=t_span,\n",
    "        y0=y0,\n",
    "        t_eval=t_eval,\n",
    "        method=\"LSODA\",\n",
    "    )\n",
    "\n",
    "    return solution_ODE"
   ]
  },
  {
   "cell_type": "markdown",
   "metadata": {
    "slideshow": {
     "slide_type": "subslide"
    }
   },
   "source": [
    "Dessa forma, podemos resolver o problema passando os parâmetros necessários."
   ]
  },
  {
   "cell_type": "markdown",
   "metadata": {},
   "source": [
    "Vamos começar estimando as condições iniciais a partir dos dados:"
   ]
  },
  {
   "cell_type": "code",
   "execution_count": 20,
   "metadata": {},
   "outputs": [],
   "source": [
    "target_population = rio_population = float(6718903)  # gathered from IBGE 2019\n",
    "df_target_population = df_rj_state_cases\n",
    "E0, A0, I0, P0, R0, D0, C0, H0 = (\n",
    "    int(10 * float(df_target_population.cases.values[0])),\n",
    "    int(1 * float(df_target_population.cases.values[0])),\n",
    "    int(5 * float(df_target_population.cases.values[0])),\n",
    "    int(float(df_target_population.cases.values[0])),\n",
    "    int(float(df_target_population.recovered.values[0])),\n",
    "    int(float(df_target_population.deaths.values[0])),\n",
    "    int(float(df_target_population.cases.values[0])),\n",
    "    int(float(df_target_population.recovered.values[0])),\n",
    ")\n",
    "\n",
    "S0 = target_population - (E0 + A0 + I0 + R0 + P0 + D0)\n",
    "y0_seairpdq = S0, E0, A0, I0, P0, R0, D0, C0, H0"
   ]
  },
  {
   "cell_type": "markdown",
   "metadata": {
    "slideshow": {
     "slide_type": "subslide"
    }
   },
   "source": [
    "Temos tudo que é necessário:"
   ]
  },
  {
   "cell_type": "code",
   "execution_count": 21,
   "metadata": {},
   "outputs": [],
   "source": [
    "t_initial = 0.\n",
    "t_final = 100.\n",
    "t_span = (t_initial, t_final)\n",
    "\n",
    "num_of_points = int(t_final - t_initial)\n",
    "t_eval = np.linspace(t_initial, t_final, num_of_points)"
   ]
  },
  {
   "cell_type": "markdown",
   "metadata": {
    "cell_style": "split",
    "slideshow": {
     "slide_type": "-"
    }
   },
   "source": [
    "Solucionando:"
   ]
  },
  {
   "cell_type": "markdown",
   "metadata": {
    "cell_style": "split",
    "slideshow": {
     "slide_type": "-"
    }
   },
   "source": [
    "Colhendo a solução:"
   ]
  },
  {
   "cell_type": "code",
   "execution_count": 22,
   "metadata": {
    "cell_style": "split",
    "slideshow": {
     "slide_type": "-"
    }
   },
   "outputs": [],
   "source": [
    "seairpdq_solution = seairpdq_ode_solver(\n",
    "    y0_seairpdq, \n",
    "    t_span, \n",
    "    t_eval\n",
    ")"
   ]
  },
  {
   "cell_type": "code",
   "execution_count": 23,
   "metadata": {
    "cell_style": "split",
    "slideshow": {
     "slide_type": "-"
    }
   },
   "outputs": [],
   "source": [
    "t_computed_seairpdq = seairpdq_solution.t\n",
    "(\n",
    "    S_seairpdq,\n",
    "    E_seairpdq,\n",
    "    A_seairpdq,\n",
    "    I_seairpdq,\n",
    "    P_seairpdq,\n",
    "    R_seairpdq,\n",
    "    D_seairpdq,\n",
    "    C_seairpdq,\n",
    "    H_seairpdq,\n",
    ") = seairpdq_solution.y"
   ]
  },
  {
   "cell_type": "markdown",
   "metadata": {
    "slideshow": {
     "slide_type": "subslide"
    }
   },
   "source": [
    "Finalmente, os gráficos:"
   ]
  },
  {
   "cell_type": "code",
   "execution_count": 24,
   "metadata": {},
   "outputs": [
    {
     "data": {
      "image/png": "[encoded data removed]",
      "text/plain": [
       "<Figure size 648x504 with 1 Axes>"
      ]
     },
     "metadata": {
      "needs_background": "light"
     },
     "output_type": "display_data"
    }
   ],
   "source": [
    "plt.figure(figsize=(9, 7))\n",
    "\n",
    "plt.plot(\n",
    "    t_computed_seairpdq,\n",
    "    C_seairpdq,\n",
    "    label=\"Cases (SEAIRPD-Q)\",\n",
    "    marker=\"X\",\n",
    "    linestyle=\"-\",\n",
    "    markersize=10,\n",
    ")\n",
    "\n",
    "plt.plot(\n",
    "    t_computed_seairpdq,\n",
    "    H_seairpdq,\n",
    "    label=\"Recovered (SEAIRPD-Q)\",\n",
    "    marker=\"D\",\n",
    "    linestyle=\"-\",\n",
    "    markersize=10,\n",
    ")\n",
    "\n",
    "plt.plot(\n",
    "    t_computed_seairpdq,\n",
    "    D_seairpdq,\n",
    "    label=\"Deaths (SEAIRPD-Q)\",\n",
    "    marker=\"v\",\n",
    "    linestyle=\"-\",\n",
    "    markersize=10,\n",
    ")\n",
    "\n",
    "plt.xlabel(\"Time (days)\")\n",
    "plt.ylabel(\"Population\")\n",
    "plt.legend(shadow=True)\n",
    "plt.grid()\n",
    "\n",
    "plt.show()"
   ]
  },
  {
   "cell_type": "markdown",
   "metadata": {
    "slideshow": {
     "slide_type": "subslide"
    }
   },
   "source": [
    "# Perguntas? Comentários?"
   ]
  },
  {
   "cell_type": "markdown",
   "metadata": {
    "slideshow": {
     "slide_type": "slide"
    }
   },
   "source": [
    "## Calibração determinística com mínimos quadrados"
   ]
  },
  {
   "cell_type": "markdown",
   "metadata": {
    "slideshow": {
     "slide_type": "subslide"
    }
   },
   "source": [
    "## Calibração determinística com mínimos quadrados\n",
    "\n",
    "* Tendo um modelo funcionando, podemos calibrá-lo\n",
    "* Conciliar dados com a saída de um modelo é solucionar um problema de minimização\n",
    "* Problemas de otimização possuem ótimos locais e globais\n",
    "* Como solucionar isso em Python?\n",
    "* A `scipy` é, novamente, sua amiga"
   ]
  },
  {
   "cell_type": "markdown",
   "metadata": {
    "slideshow": {
     "slide_type": "subslide"
    }
   },
   "source": [
    "Sendo o ajuste de mínimos quadrados um problema de otimização, qual problema é esse (e a função-objetivo)? Consiste em minimizar o resíduo entre a saída do modelo e os dados observados, satisfazendo as restrições do espaço paramétrico viável.\n",
    "\n",
    "\\begin{equation}\n",
    "\\begin{aligned}\n",
    "\\min_{\\theta}{F(t; \\theta)} &:= w \\frac{1}{N_d} \\sum_{i}^{N_d} (y_i^{obs} - y^{model}(t_i, \\theta))^2\n",
    "\\end{aligned}\n",
    "\\end{equation}\n",
    "\n",
    "No nosso caso, consideramos duas saídas do modelo, que são o número de casos confirmados acumulados ($C$) e o número de óbitos total ($D$). Então,\n",
    "\n",
    "\\begin{equation}\n",
    "\\begin{aligned}\n",
    "\\min_{\\theta}{F(t; \\theta)} &:= \\frac{1}{N_d}\\left(w_C \\sum_{i}^{N_d} [C_i^{obs} - C^{model}(t_i, \\theta)]^2 \n",
    " + w_D \\sum_{i}^{N_d} [D_i^{obs} - D^{model}(t_i, \\theta)]^2 \\right)\n",
    "\\end{aligned}\n",
    "\\end{equation}"
   ]
  },
  {
   "cell_type": "markdown",
   "metadata": {
    "slideshow": {
     "slide_type": "subslide"
    }
   },
   "source": [
    "E em Python? Bom, temos que definir a função-objetivo:\n",
    "\n",
    "\\begin{equation}\n",
    "\\begin{aligned}\n",
    "F(t; \\theta) &:= \\frac{1}{N_d} \\left( w_C \\sum_{i}^{N_d} [C_i^{obs} - C^{model}(t_i, \\theta)]^2 \n",
    " + w_D \\sum_{i}^{N_d} [D_i^{obs} - D^{model}(t_i, \\theta)]^2 \\right)\n",
    "\\end{aligned}\n",
    "\\end{equation}"
   ]
  },
  {
   "cell_type": "code",
   "execution_count": 25,
   "metadata": {},
   "outputs": [],
   "source": [
    "def seairpdq_least_squares_error_ode(\n",
    "    parameters, time_exp, f_exp, fitting_model, initial_conditions\n",
    "):\n",
    "    f_exp1, f_exp2 = f_exp\n",
    "    time_span = (time_exp.min(), time_exp.max())\n",
    "\n",
    "    weighting_for_exp1 = 1.0\n",
    "    weighting_for_exp2 = 1.0\n",
    "    num_of_points = len(f_exp1)\n",
    "\n",
    "    try:\n",
    "        y_model = fitting_model(initial_conditions, time_span, time_exp, *parameters)\n",
    "        simulated_time = y_model.t\n",
    "        simulated_ode_solution = y_model.y\n",
    "        (\n",
    "            _,\n",
    "            _,\n",
    "            _,\n",
    "            _,\n",
    "            _,\n",
    "            _,\n",
    "            simulated_qoi2,  # D\n",
    "            simulated_qoi1,  # C\n",
    "            _,\n",
    "        ) = simulated_ode_solution\n",
    "\n",
    "        residual1 = f_exp1 - simulated_qoi1  # Cases\n",
    "        residual2 = f_exp2 - simulated_qoi2  # Deaths\n",
    "\n",
    "        first_term = weighting_for_exp1 * np.sum(residual1 ** 2.0)\n",
    "        second_term = weighting_for_exp2 * np.sum(residual2 ** 2.0)\n",
    "        \n",
    "        objective_function = 1 / num_of_points * (first_term + second_term)\n",
    "    except ValueError:\n",
    "        objective_function = 1e15\n",
    "\n",
    "    return objective_function"
   ]
  },
  {
   "cell_type": "markdown",
   "metadata": {
    "slideshow": {
     "slide_type": "subslide"
    }
   },
   "source": [
    "Como vamos utilizar o *Differential Evolution*, o próximo passo é definir os intervalos de buscas dos parâmetros:"
   ]
  },
  {
   "cell_type": "code",
   "execution_count": 26,
   "metadata": {},
   "outputs": [],
   "source": [
    "bounds_seirpdq = [\n",
    "    (0, 1e-5),  # beta\n",
    "    (0, 1),  # omega\n",
    "    (0.1, 1e-5),  # d_P\n",
    "    (0.1, 1e-5),  # d_I\n",
    "    # (1 / 21, 1 / 14),  # gamma_P\n",
    "]"
   ]
  },
  {
   "cell_type": "markdown",
   "metadata": {},
   "source": [
    "E definir os valores observados que serão utilizados:"
   ]
  },
  {
   "cell_type": "code",
   "execution_count": 27,
   "metadata": {},
   "outputs": [],
   "source": [
    "data_time = df_target_population.day.values.astype(np.float64)  # tem que ser em float\n",
    "dead_individuals = df_target_population.deaths.values  # .values converte para np.array\n",
    "confirmed_cases = df_target_population.cases.values"
   ]
  },
  {
   "cell_type": "markdown",
   "metadata": {
    "slideshow": {
     "slide_type": "-"
    }
   },
   "source": [
    "Vamos utilizar uma função de callback para monitorar o método:"
   ]
  },
  {
   "cell_type": "code",
   "execution_count": 28,
   "metadata": {},
   "outputs": [],
   "source": [
    "def callback_de(xk, convergence):\n",
    "    print(f\"parameters = {xk}\\n\")"
   ]
  },
  {
   "cell_type": "markdown",
   "metadata": {
    "slideshow": {
     "slide_type": "subslide"
    }
   },
   "source": [
    "Agora com todos os ingredientes, vamos solucionar o problema utilizando a `scipy.optimize.differential_evolution`:"
   ]
  },
  {
   "cell_type": "code",
   "execution_count": 29,
   "metadata": {},
   "outputs": [
    {
     "name": "stderr",
     "output_type": "stream",
     "text": [
      "/home/diego/.local/lib/python3.6/site-packages/scipy/optimize/_differentialevolution.py:497: UserWarning: differential_evolution: the 'workers' keyword has overridden updating='immediate' to updating='deferred'\n",
      "  \" updating='deferred'\", UserWarning)\n"
     ]
    },
    {
     "name": "stdout",
     "output_type": "stream",
     "text": [
      "differential_evolution step 1: f(x)= 7.41489e+09\n",
      "parameters = [7.50027368e-06 4.00687580e-01 6.35359213e-03 1.90026945e-02]\n",
      "\n",
      "differential_evolution step 2: f(x)= 7.41489e+09\n",
      "parameters = [7.50027368e-06 4.00687580e-01 6.35359213e-03 1.90026945e-02]\n",
      "\n",
      "differential_evolution step 3: f(x)= 7.0163e+09\n",
      "parameters = [5.83719746e-06 3.31600706e-01 2.30020826e-02 2.63434713e-02]\n",
      "\n",
      "differential_evolution step 4: f(x)= 6.43018e+09\n",
      "parameters = [3.12646740e-06 2.34612537e-01 1.14747373e-02 1.43849465e-02]\n",
      "\n",
      "differential_evolution step 5: f(x)= 6.35243e+09\n",
      "parameters = [2.99286591e-06 2.28245368e-01 5.61847329e-03 2.20604632e-02]\n",
      "\n",
      "differential_evolution step 6: f(x)= 6.35243e+09\n",
      "parameters = [2.99286591e-06 2.28245368e-01 5.61847329e-03 2.20604632e-02]\n",
      "\n",
      "differential_evolution step 7: f(x)= 6.2114e+09\n",
      "parameters = [2.07142528e-06 1.82504661e-01 4.87395070e-03 3.26828877e-03]\n",
      "\n",
      "differential_evolution step 8: f(x)= 6.2114e+09\n",
      "parameters = [2.07142528e-06 1.82504661e-01 4.87395070e-03 3.26828877e-03]\n",
      "\n",
      "differential_evolution step 9: f(x)= 5.68701e+09\n",
      "parameters = [9.74417341e-07 1.09617595e-01 4.79222839e-03 8.37713179e-03]\n",
      "\n",
      "differential_evolution step 10: f(x)= 5.68701e+09\n",
      "parameters = [9.74417341e-07 1.09617595e-01 4.79222839e-03 8.37713179e-03]\n",
      "\n",
      "differential_evolution step 11: f(x)= 5.68701e+09\n",
      "parameters = [9.74417341e-07 1.09617595e-01 4.79222839e-03 8.37713179e-03]\n",
      "\n",
      "differential_evolution step 12: f(x)= 5.62858e+09\n",
      "parameters = [8.83907128e-07 9.99600123e-02 1.64284868e-03 2.20543031e-02]\n",
      "\n",
      "differential_evolution step 13: f(x)= 5.53261e+09\n",
      "parameters = [8.12405305e-07 9.48180372e-02 3.78081930e-04 1.89689729e-02]\n",
      "\n",
      "differential_evolution step 14: f(x)= 5.53261e+09\n",
      "parameters = [8.12405305e-07 9.48180372e-02 3.78081930e-04 1.89689729e-02]\n",
      "\n",
      "differential_evolution step 15: f(x)= 5.40207e+09\n",
      "parameters = [6.45962721e-07 7.96109651e-02 1.27839252e-02 1.36913925e-02]\n",
      "\n",
      "differential_evolution step 16: f(x)= 5.40207e+09\n",
      "parameters = [6.45962721e-07 7.96109651e-02 1.27839252e-02 1.36913925e-02]\n",
      "\n",
      "differential_evolution step 17: f(x)= 5.3096e+09\n",
      "parameters = [6.17831445e-07 7.71619846e-02 1.06526486e-02 9.54230965e-03]\n",
      "\n",
      "differential_evolution step 18: f(x)= 5.09045e+09\n",
      "parameters = [5.09302523e-07 6.49828601e-02 1.44443675e-02 6.96384678e-03]\n",
      "\n",
      "differential_evolution step 19: f(x)= 5.09045e+09\n",
      "parameters = [5.09302523e-07 6.49828601e-02 1.44443675e-02 6.96384678e-03]\n",
      "\n",
      "differential_evolution step 20: f(x)= 4.96174e+09\n",
      "parameters = [4.64625528e-07 5.94035311e-02 1.14602874e-02 5.71736977e-03]\n",
      "\n",
      "differential_evolution step 21: f(x)= 4.69713e+09\n",
      "parameters = [3.46234814e-07 4.66963541e-02 1.24561131e-02 2.94889766e-03]\n",
      "\n",
      "differential_evolution step 22: f(x)= 4.40611e+09\n",
      "parameters = [3.19663847e-07 4.27956102e-02 1.19624867e-02 3.23991503e-03]\n",
      "\n",
      "differential_evolution step 23: f(x)= 4.08685e+09\n",
      "parameters = [3.00931226e-07 3.94422465e-02 9.48959897e-03 8.94916856e-03]\n",
      "\n",
      "differential_evolution step 24: f(x)= 4.04018e+09\n",
      "parameters = [3.08326586e-07 3.97172832e-02 4.30112040e-03 1.73473622e-02]\n",
      "\n",
      "differential_evolution step 25: f(x)= 3.69493e+09\n",
      "parameters = [2.73965386e-07 3.45616733e-02 1.35274837e-03 1.94812647e-02]\n",
      "\n",
      "differential_evolution step 26: f(x)= 3.54625e+09\n",
      "parameters = [2.47682954e-07 3.04074857e-02 5.07817595e-03 1.86902503e-02]\n",
      "\n",
      "differential_evolution step 27: f(x)= 1.79428e+09\n",
      "parameters = [1.58718693e-07 1.73029659e-02 1.91922730e-03 2.25232274e-02]\n",
      "\n",
      "differential_evolution step 28: f(x)= 9.68998e+08\n",
      "parameters = [1.31351585e-07 1.26711448e-02 4.61299019e-03 2.62559706e-02]\n",
      "\n",
      "differential_evolution step 29: f(x)= 4.18171e+08\n",
      "parameters = [1.02250195e-07 7.24204014e-03 4.14795240e-03 3.96032608e-02]\n",
      "\n",
      "differential_evolution step 30: f(x)= 2.66403e+08\n",
      "parameters = [1.11999570e-07 8.93930768e-03 1.29998833e-03 3.82308582e-02]\n",
      "\n",
      "differential_evolution step 31: f(x)= 2.0231e+08\n",
      "parameters = [1.04393138e-07 7.57541486e-03 1.92515833e-03 4.66744643e-02]\n",
      "\n",
      "differential_evolution step 32: f(x)= 1.66963e+08\n",
      "parameters = [9.64976323e-08 6.41039488e-03 2.46931955e-04 4.29330660e-02]\n",
      "\n",
      "differential_evolution step 33: f(x)= 1.66471e+08\n",
      "parameters = [1.01234935e-07 7.10940687e-03 1.25386778e-03 4.51779050e-02]\n",
      "\n",
      "differential_evolution step 34: f(x)= 1.66471e+08\n",
      "parameters = [1.01234935e-07 7.10940687e-03 1.25386778e-03 4.51779050e-02]\n",
      "\n",
      "differential_evolution step 35: f(x)= 1.33402e+08\n",
      "parameters = [9.68788510e-08 6.54614459e-03 3.12265811e-04 3.83653088e-02]\n",
      "\n",
      "differential_evolution step 36: f(x)= 1.06774e+08\n",
      "parameters = [1.03798257e-07 7.75990588e-03 1.39083566e-04 3.38974123e-02]\n",
      "\n",
      "differential_evolution step 37: f(x)= 8.73863e+07\n",
      "parameters = [9.88196874e-08 7.12443912e-03 4.14624576e-04 2.72845365e-02]\n",
      "\n",
      "differential_evolution step 38: f(x)= 8.56979e+07\n",
      "parameters = [1.00545045e-07 7.47237539e-03 3.80148081e-04 2.33525775e-02]\n",
      "\n",
      "differential_evolution step 39: f(x)= 8.3054e+07\n",
      "parameters = [9.92459864e-08 7.21699295e-03 5.16954602e-04 2.56928899e-02]\n",
      "\n",
      "differential_evolution step 40: f(x)= 8.3054e+07\n",
      "parameters = [9.92459864e-08 7.21699295e-03 5.16954602e-04 2.56928899e-02]\n",
      "\n",
      "differential_evolution step 41: f(x)= 8.24582e+07\n",
      "parameters = [9.87161773e-08 7.14833859e-03 3.43597888e-04 2.44439176e-02]\n",
      "\n",
      "differential_evolution step 42: f(x)= 8.2126e+07\n",
      "parameters = [9.88663143e-08 7.20455282e-03 2.57738740e-04 2.30003667e-02]\n",
      "\n",
      "differential_evolution step 43: f(x)= 8.18691e+07\n",
      "parameters = [9.87907462e-08 7.17573050e-03 4.79113156e-04 2.39738003e-02]\n",
      "\n",
      "differential_evolution step 44: f(x)= 8.1714e+07\n",
      "parameters = [9.88504156e-08 7.19835472e-03 6.03940753e-04 2.33389847e-02]\n",
      "\n",
      "differential_evolution step 45: f(x)= 8.1714e+07\n",
      "parameters = [9.88504156e-08 7.19835472e-03 6.03940753e-04 2.33389847e-02]\n",
      "\n",
      "differential_evolution step 46: f(x)= 8.1714e+07\n",
      "parameters = [9.88504156e-08 7.19835472e-03 6.03940753e-04 2.33389847e-02]\n",
      "\n",
      "differential_evolution step 47: f(x)= 8.1714e+07\n",
      "parameters = [9.88504156e-08 7.19835472e-03 6.03940753e-04 2.33389847e-02]\n",
      "\n",
      "differential_evolution step 48: f(x)= 8.15382e+07\n",
      "parameters = [9.88143808e-08 7.17453583e-03 4.85212440e-04 2.40570654e-02]\n",
      "\n",
      "differential_evolution step 49: f(x)= 8.15187e+07\n",
      "parameters = [9.85907762e-08 7.15690494e-03 5.97196498e-04 2.31840128e-02]\n",
      "\n",
      "differential_evolution step 50: f(x)= 8.15187e+07\n",
      "parameters = [9.85907762e-08 7.15690494e-03 5.97196498e-04 2.31840128e-02]\n",
      "\n",
      "differential_evolution step 51: f(x)= 8.15187e+07\n",
      "parameters = [9.85907762e-08 7.15690494e-03 5.97196498e-04 2.31840128e-02]\n",
      "\n",
      "differential_evolution step 52: f(x)= 8.15187e+07\n",
      "parameters = [9.85907762e-08 7.15690494e-03 5.97196498e-04 2.31840128e-02]\n",
      "\n",
      "differential_evolution step 53: f(x)= 8.15187e+07\n",
      "parameters = [9.85907762e-08 7.15690494e-03 5.97196498e-04 2.31840128e-02]\n",
      "\n",
      "differential_evolution step 54: f(x)= 8.15187e+07\n",
      "parameters = [9.85907762e-08 7.15690494e-03 5.97196498e-04 2.31840128e-02]\n",
      "\n",
      "differential_evolution step 55: f(x)= 8.15187e+07\n",
      "parameters = [9.85907762e-08 7.15690494e-03 5.97196498e-04 2.31840128e-02]\n",
      "\n",
      "differential_evolution step 56: f(x)= 8.15187e+07\n",
      "parameters = [9.85907762e-08 7.15690494e-03 5.97196498e-04 2.31840128e-02]\n",
      "\n",
      "differential_evolution step 57: f(x)= 8.15187e+07\n",
      "parameters = [9.85907762e-08 7.15690494e-03 5.97196498e-04 2.31840128e-02]\n",
      "\n",
      "differential_evolution step 58: f(x)= 8.15187e+07\n",
      "parameters = [9.85907762e-08 7.15690494e-03 5.97196498e-04 2.31840128e-02]\n",
      "\n",
      "differential_evolution step 59: f(x)= 8.14922e+07\n",
      "parameters = [9.88960935e-08 7.18239884e-03 3.42979315e-04 2.42958044e-02]\n",
      "\n",
      "differential_evolution step 60: f(x)= 8.14922e+07\n",
      "parameters = [9.88960935e-08 7.18239884e-03 3.42979315e-04 2.42958044e-02]\n",
      "\n",
      "differential_evolution step 61: f(x)= 8.14922e+07\n",
      "parameters = [9.88960935e-08 7.18239884e-03 3.42979315e-04 2.42958044e-02]\n",
      "\n",
      "differential_evolution step 62: f(x)= 8.14922e+07\n",
      "parameters = [9.88960935e-08 7.18239884e-03 3.42979315e-04 2.42958044e-02]\n",
      "\n",
      "differential_evolution step 63: f(x)= 8.14922e+07\n",
      "parameters = [9.88960935e-08 7.18239884e-03 3.42979315e-04 2.42958044e-02]\n",
      "\n",
      "differential_evolution step 64: f(x)= 8.14922e+07\n",
      "parameters = [9.88960935e-08 7.18239884e-03 3.42979315e-04 2.42958044e-02]\n",
      "\n",
      "differential_evolution step 65: f(x)= 8.14922e+07\n",
      "parameters = [9.88960935e-08 7.18239884e-03 3.42979315e-04 2.42958044e-02]\n",
      "\n",
      "differential_evolution step 66: f(x)= 8.14911e+07\n",
      "parameters = [9.89030859e-08 7.18297792e-03 3.38026344e-04 2.43098512e-02]\n",
      "\n"
     ]
    },
    {
     "name": "stdout",
     "output_type": "stream",
     "text": [
      "differential_evolution step 67: f(x)= 8.14911e+07\n",
      "parameters = [9.89030859e-08 7.18297792e-03 3.38026344e-04 2.43098512e-02]\n",
      "\n",
      "differential_evolution step 68: f(x)= 8.14901e+07\n",
      "parameters = [9.89075470e-08 7.18323123e-03 3.32285441e-04 2.43419398e-02]\n",
      "\n",
      "differential_evolution step 69: f(x)= 8.149e+07\n",
      "parameters = [9.89001420e-08 7.18258381e-03 3.23288280e-04 2.43073365e-02]\n",
      "\n",
      "differential_evolution step 70: f(x)= 8.149e+07\n",
      "parameters = [9.89001420e-08 7.18258381e-03 3.23288280e-04 2.43073365e-02]\n",
      "\n",
      "differential_evolution step 71: f(x)= 8.149e+07\n",
      "parameters = [9.89001420e-08 7.18258381e-03 3.23288280e-04 2.43073365e-02]\n",
      "\n",
      "differential_evolution step 72: f(x)= 8.14899e+07\n",
      "parameters = [9.88995549e-08 7.18255781e-03 3.19364572e-04 2.43160248e-02]\n",
      "\n",
      "differential_evolution step 73: f(x)= 8.14895e+07\n",
      "parameters = [9.89016563e-08 7.18250172e-03 3.15574116e-04 2.43224115e-02]\n",
      "\n",
      "differential_evolution step 74: f(x)= 8.14893e+07\n",
      "parameters = [9.89085765e-08 7.18316456e-03 3.22745027e-04 2.43562787e-02]\n",
      "\n",
      "differential_evolution step 75: f(x)= 8.14893e+07\n",
      "parameters = [9.89085765e-08 7.18316456e-03 3.22745027e-04 2.43562787e-02]\n",
      "\n",
      "differential_evolution step 76: f(x)= 8.14888e+07\n",
      "parameters = [9.89121734e-08 7.18343721e-03 3.23935381e-04 2.43625338e-02]\n",
      "\n",
      "differential_evolution step 77: f(x)= 8.14888e+07\n",
      "parameters = [9.89121734e-08 7.18343721e-03 3.23935381e-04 2.43625338e-02]\n",
      "\n",
      "differential_evolution step 78: f(x)= 8.14888e+07\n",
      "parameters = [9.89121734e-08 7.18343721e-03 3.23935381e-04 2.43625338e-02]\n",
      "\n",
      "differential_evolution step 79: f(x)= 8.14888e+07\n",
      "parameters = [9.89121734e-08 7.18343721e-03 3.23935381e-04 2.43625338e-02]\n",
      "\n",
      "differential_evolution step 80: f(x)= 8.14888e+07\n",
      "parameters = [9.89121734e-08 7.18343721e-03 3.23935381e-04 2.43625338e-02]\n",
      "\n",
      "differential_evolution step 81: f(x)= 8.14888e+07\n",
      "parameters = [9.89121734e-08 7.18343721e-03 3.23935381e-04 2.43625338e-02]\n",
      "\n",
      "differential_evolution step 82: f(x)= 8.14888e+07\n",
      "parameters = [9.89121734e-08 7.18343721e-03 3.23935381e-04 2.43625338e-02]\n",
      "\n"
     ]
    },
    {
     "data": {
      "text/plain": [
       "     fun: 81488823.82621399\n",
       " message: 'Optimization terminated successfully.'\n",
       "    nfev: 6640\n",
       "     nit: 82\n",
       " success: True\n",
       "       x: array([9.89121734e-08, 7.18343721e-03, 3.23935381e-04, 2.43625338e-02])"
      ]
     },
     "execution_count": 29,
     "metadata": {},
     "output_type": "execute_result"
    }
   ],
   "source": [
    "from scipy import optimize\n",
    "\n",
    "seed = 1234  # para reprodutividade\n",
    "result_seirpdq = optimize.differential_evolution(\n",
    "    seairpdq_least_squares_error_ode,  # função-objetivo\n",
    "    bounds=bounds_seirpdq,  # hipercubo dos intervalos viáveis\n",
    "    args=(\n",
    "        data_time,  # time_exp\n",
    "        [confirmed_cases, dead_individuals],  # f_exp\n",
    "        seairpdq_ode_solver,  # fitting_model\n",
    "        y0_seairpdq,  # initial_conditions\n",
    "    ),\n",
    "    # Parâmetros do DE\n",
    "    popsize=20,\n",
    "    strategy=\"best1bin\",\n",
    "    tol=1e-5,\n",
    "    recombination=0.95,\n",
    "    mutation=0.6,\n",
    "    maxiter=10000,\n",
    "    polish=False,\n",
    "    disp=True,\n",
    "    seed=seed,\n",
    "    callback=callback_de,\n",
    "    workers=-1,  # processamento paralelo com tudo que tiver\n",
    ")\n",
    "\n",
    "result_seirpdq"
   ]
  },
  {
   "cell_type": "markdown",
   "metadata": {
    "slideshow": {
     "slide_type": "subslide"
    }
   },
   "source": [
    "Pegando os resultados:"
   ]
  },
  {
   "cell_type": "code",
   "execution_count": 30,
   "metadata": {},
   "outputs": [
    {
     "name": "stdout",
     "output_type": "stream",
     "text": [
      "beta = 9.891e-08\n",
      "omega = 0.0072\n",
      "d_P = 3.239e-04\n",
      "d_I = 2.436e-02\n"
     ]
    }
   ],
   "source": [
    "(\n",
    "    beta_deterministic,\n",
    "    omega_deterministic,\n",
    "    d_P_deterministic,\n",
    "    d_I_deterministic,\n",
    ") = result_seirpdq.x\n",
    "\n",
    "print(f\"beta = {beta_deterministic:.3e}\")\n",
    "print(f\"omega = {omega_deterministic:1.4f}\")\n",
    "print(f\"d_P = {d_P_deterministic:.3e}\")\n",
    "print(f\"d_I = {d_I_deterministic:.3e}\")"
   ]
  },
  {
   "cell_type": "markdown",
   "metadata": {
    "slideshow": {
     "slide_type": "subslide"
    }
   },
   "source": [
    "Vamos realizar uma simulação com os valores desses parâmetros ajustados e comparar com os dados:"
   ]
  },
  {
   "cell_type": "code",
   "execution_count": 31,
   "metadata": {},
   "outputs": [],
   "source": [
    "t0 = data_time.min()\n",
    "tf = data_time.max()\n",
    "\n",
    "solution_ODE_seairpdq = seairpdq_ode_solver(y0_seairpdq, (t0, tf), data_time, *result_seirpdq.x)\n",
    "t_computed_seairpdq, y_computed_seairpdq = solution_ODE_seairpdq.t, solution_ODE_seairpdq.y\n",
    "(\n",
    "    S_seairpdq,\n",
    "    E_seairpdq,\n",
    "    A_seairpdq,\n",
    "    I_seairpdq,\n",
    "    P_seairpdq,\n",
    "    R_seairpdq,\n",
    "    D_seairpdq,\n",
    "    C_seairpdq,\n",
    "    H_seairpdq,\n",
    ") = y_computed_seairpdq"
   ]
  },
  {
   "cell_type": "markdown",
   "metadata": {
    "slideshow": {
     "slide_type": "subslide"
    }
   },
   "source": [
    "Visualizando:"
   ]
  },
  {
   "cell_type": "code",
   "execution_count": 32,
   "metadata": {},
   "outputs": [
    {
     "data": {
      "image/png": "[encoded data removed]",
      "text/plain": [
       "<Figure size 648x504 with 1 Axes>"
      ]
     },
     "metadata": {
      "needs_background": "light"
     },
     "output_type": "display_data"
    }
   ],
   "source": [
    "plt.figure(figsize=(9, 7))\n",
    "\n",
    "plt.plot(\n",
    "    t_computed_seairpdq,\n",
    "    C_seairpdq,\n",
    "    label=\"Cases (SEAIRPD-Q)\",\n",
    "    marker=\"X\",\n",
    "    linestyle=\"-\",\n",
    "    markersize=10,\n",
    ")\n",
    "\n",
    "plt.plot(\n",
    "    t_computed_seairpdq,\n",
    "    D_seairpdq,\n",
    "    label=\"Deaths (SEAIRPD-Q)\",\n",
    "    marker=\"v\",\n",
    "    linestyle=\"-\",\n",
    "    markersize=10,\n",
    ")\n",
    "\n",
    "plt.plot(\n",
    "    data_time, confirmed_cases, label=\"Confirmed data\", marker=\"s\", linestyle=\"\", markersize=10\n",
    ")\n",
    "\n",
    "plt.plot(\n",
    "    data_time, dead_individuals, label=\"Recorded deaths\", marker=\"v\", linestyle=\"\", markersize=10\n",
    ")\n",
    "\n",
    "plt.xlabel(\"Time (days)\")\n",
    "plt.ylabel(\"Population\")\n",
    "plt.legend()\n",
    "plt.grid()\n",
    "\n",
    "plt.show()"
   ]
  },
  {
   "cell_type": "markdown",
   "metadata": {
    "slideshow": {
     "slide_type": "subslide"
    }
   },
   "source": [
    "De maneira análoga, poderíamos utilizar os parâmetros calibrados para extrapolar/predizer uma determinada quantidade de dias:"
   ]
  },
  {
   "cell_type": "code",
   "execution_count": 33,
   "metadata": {},
   "outputs": [],
   "source": [
    "num_of_days_to_predict = 100\n",
    "t0 = data_time.min()\n",
    "tf = data_time.max() + num_of_days_to_predict\n",
    "time_range = np.linspace(t0, tf, int(tf - t0) + 1)\n",
    "\n",
    "solution_ODE_seairpdq_predicted = seairpdq_ode_solver(y0_seairpdq, (t0, tf), time_range, *result_seirpdq.x)\n",
    "t_predicted_seairpdq, y_predicted_seairpdq = solution_ODE_seairpdq_predicted.t, solution_ODE_seairpdq_predicted.y\n",
    "(\n",
    "    S_seairpdq,\n",
    "    E_seairpdq,\n",
    "    A_seairpdq,\n",
    "    I_seairpdq,\n",
    "    P_seairpdq,\n",
    "    R_seairpdq,\n",
    "    D_seairpdq,\n",
    "    C_seairpdq,\n",
    "    H_seairpdq,\n",
    ") = y_predicted_seairpdq"
   ]
  },
  {
   "cell_type": "markdown",
   "metadata": {
    "slideshow": {
     "slide_type": "subslide"
    }
   },
   "source": [
    "Visualizando:"
   ]
  },
  {
   "cell_type": "code",
   "execution_count": 34,
   "metadata": {},
   "outputs": [
    {
     "data": {
      "image/png": "[encoded data removed]",
      "text/plain": [
       "<Figure size 648x504 with 1 Axes>"
      ]
     },
     "metadata": {
      "needs_background": "light"
     },
     "output_type": "display_data"
    }
   ],
   "source": [
    "plt.figure(figsize=(9, 7))\n",
    "\n",
    "plt.plot(\n",
    "    t_predicted_seairpdq,\n",
    "    C_seairpdq,\n",
    "    label=\"Cases (SEAIRPD-Q)\",\n",
    "    marker=\"X\",\n",
    "    linestyle=\"-\",\n",
    "    markersize=10,\n",
    ")\n",
    "\n",
    "plt.plot(\n",
    "    t_predicted_seairpdq,\n",
    "    D_seairpdq,\n",
    "    label=\"Deaths (SEAIRPD-Q)\",\n",
    "    marker=\"v\",\n",
    "    linestyle=\"-\",\n",
    "    markersize=10,\n",
    ")\n",
    "\n",
    "plt.plot(\n",
    "    data_time, confirmed_cases, label=\"Confirmed data\", marker=\"s\", linestyle=\"\", markersize=10\n",
    ")\n",
    "\n",
    "plt.plot(\n",
    "    data_time, dead_individuals, label=\"Recorded deaths\", marker=\"v\", linestyle=\"\", markersize=10\n",
    ")\n",
    "\n",
    "plt.xlabel(\"Time (days)\")\n",
    "plt.ylabel(\"Population\")\n",
    "plt.legend(shadow=True)\n",
    "plt.grid()\n",
    "\n",
    "plt.show()"
   ]
  },
  {
   "cell_type": "markdown",
   "metadata": {
    "slideshow": {
     "slide_type": "subslide"
    }
   },
   "source": [
    "# Perguntas? Comentários?"
   ]
  },
  {
   "cell_type": "markdown",
   "metadata": {
    "slideshow": {
     "slide_type": "slide"
    }
   },
   "source": [
    "## Análise de Sensibilidade"
   ]
  },
  {
   "cell_type": "markdown",
   "metadata": {
    "slideshow": {
     "slide_type": "subslide"
    }
   },
   "source": [
    "## Análise de Sensibilidade\n",
    "\n",
    "* De posse de um modelo, podemos determinar quais parâmetros são mais influentes levando em conta uma QoI\n",
    "* Possíveis benefícios:\n",
    "    * Reduz custos computacionais (menor número de parâmetros a calibrar)\n",
    "    * Facilita o processo de calibração (identificação do modelo, redundância e etc)\n",
    "    * Informações e interpretações adicionais do modelo\n",
    "* É possível fazer isso em Python também?!\n",
    "* Time to shine, `SALib` (Sensitivity Analysis Library in Python)"
   ]
  },
  {
   "cell_type": "markdown",
   "metadata": {
    "slideshow": {
     "slide_type": "subslide"
    }
   },
   "source": [
    "Para a Análise de Sensibilidade, utilizamos o método de *Elementary Effects* (ou método de Morris). De maneira bem simplista, é um método que simula planejamento experimental para um modelo computacional. Na `SALib`, ele é feito em duas etapas:\n",
    "\n",
    "1. Geração das amostras e trajetórias (uma série de perturbações nos parâmetros) utilizando estratégia OAT (One-factor-At-a-Time)\n",
    "\\begin{equation}\n",
    "d_{i}(\\mathbf{X})=\\frac{y\\left(X_{1}, \\ldots, X_{i}+\\Delta, \\ldots, X_{k}\\right)-y(\\mathbf{X})}{\\Delta}\n",
    "\\end{equation}\n",
    "2. Análise estatística dos efeitos elementares das perturbações (média e desvio-padrão). Rankear os parâmetros de maneira mais clara e intuitiva, utilizamos o a média normalizada das distribuições dos valores absolutos (para evitar cancelamentos) dos efeitos elementares ($s^*_i$)\n",
    "\\begin{equation}\n",
    "\\begin{aligned}\n",
    "s_{i}^{*}=& \\frac{1}{r} \\sum_{j=1}^{r}\\left|d_{i}\\left(\\mathbf{X}^{(j)}\\right)\\right| \\\\\n",
    "\\bar{s}_{i}^{*} &=\\frac{s_{i}^{*}}{\\sum_{l=1}^{k} s_{l}^{*}}\n",
    "\\end{aligned}\n",
    "\\end{equation}"
   ]
  },
  {
   "cell_type": "markdown",
   "metadata": {
    "slideshow": {
     "slide_type": "subslide"
    }
   },
   "source": [
    "Para gerar as amostras do espaço de experimentação, precisamos informar a média dos valores dos parâmetros e sua faixa de valores (gera uma uniforme utilizando trajetórias e níveis):"
   ]
  },
  {
   "cell_type": "code",
   "execution_count": 35,
   "metadata": {
    "slideshow": {
     "slide_type": "skip"
    }
   },
   "outputs": [],
   "source": [
    "# beta0=1e-7,\n",
    "# omega=1 / 10,\n",
    "# d_P=9e-3,\n",
    "# d_I=2e-4,\n",
    "# gamma_P=1 / 14,\n",
    "# mu0=1e-7,\n",
    "# gamma_I=1 / 14,\n",
    "# gamma_A=1 / 14,\n",
    "# epsilon_I=1 / 3,\n",
    "# rho=0.85,\n",
    "# sigma=1 / 5,\n",
    "# eta=0"
   ]
  },
  {
   "cell_type": "code",
   "execution_count": 36,
   "metadata": {},
   "outputs": [],
   "source": [
    "from SALib.sample.morris import sample as ee_sample\n",
    "\n",
    "gamma_I_deterministic = 1 / 14\n",
    "gamma_A_deterministic = 1 / 14\n",
    "gamma_P_deterministic = 1 / 14\n",
    "epsilon_I_deterministic = 1 / 3\n",
    "rho_deterministic = 0.85\n",
    "sigma_deterministic = 1 / 5\n",
    "eta_deterministic = 0\n",
    "\n",
    "mean_values_params = [\n",
    "    beta_deterministic, \n",
    "    omega_deterministic, \n",
    "    d_P_deterministic, \n",
    "    d_I_deterministic,\n",
    "    gamma_P_deterministic,\n",
    "    beta_deterministic,\n",
    "    gamma_I_deterministic,\n",
    "    gamma_A_deterministic,\n",
    "    epsilon_I_deterministic,\n",
    "    rho_deterministic,\n",
    "    sigma_deterministic\n",
    "]\n",
    "factors_names = [\n",
    "    r'$\\beta$', \n",
    "    r'$\\omega$', \n",
    "    r'$d_P$', \n",
    "    r'$d_I$', \n",
    "    r'$\\gamma_P$', \n",
    "    r'$\\mu$', \n",
    "    r'$\\gamma_I$', \n",
    "    r'$\\gamma_A$', \n",
    "    r'$\\epsilon_I$', \n",
    "    r'$\\rho$', \n",
    "    r'$\\sigma$'\n",
    "]\n",
    "params_perturbations = 0.25\n",
    "problem_info = {\n",
    "    'num_vars': len(mean_values_params),\n",
    "    'names': factors_names,\n",
    "    'bounds': [[param - params_perturbations * param, param + params_perturbations * param] for param in mean_values_params]\n",
    "}\n",
    "\n",
    "grid_level = 4\n",
    "num_of_trajectories = 40\n",
    "parameter_values = ee_sample(problem_info, grid_level, num_of_trajectories, local_optimization=False, seed=seed)"
   ]
  },
  {
   "cell_type": "markdown",
   "metadata": {
    "slideshow": {
     "slide_type": "subslide"
    }
   },
   "source": [
    "Com a amostragem dos parâmetros gerada, são feitas as realizações do modelo e computados os efeitos elementares. Para exemplificar, vamos considerar nossa QoI como o número de casos confirmados acumulados para cada dia."
   ]
  },
  {
   "cell_type": "code",
   "execution_count": 37,
   "metadata": {},
   "outputs": [],
   "source": [
    "t0 = data_time.min()\n",
    "tf = data_time.max()\n",
    "num_of_experimental_points = data_time.shape[0]\n",
    "num_of_realizations = parameter_values.shape[0]\n",
    "qoi_sensitivity_outputs = np.zeros([num_of_realizations, num_of_experimental_points])\n",
    "\n",
    "for realization_index, parameters_realization in enumerate(parameter_values):\n",
    "    \n",
    "    realization_ODE_seairpdq = seairpdq_ode_solver(y0_seairpdq, (t0, tf), data_time, *parameters_realization)\n",
    "    (\n",
    "        S_seairpdq, \n",
    "        E_seairpdq,\n",
    "        A_seairpdq,\n",
    "        I_seairpdq,\n",
    "        P_seairpdq,\n",
    "        R_seairpdq,\n",
    "        D_seairpdq,\n",
    "        C_seairpdq,\n",
    "        H_seairpdq,\n",
    "    ) = realization_ODE_seairpdq.y\n",
    "    \n",
    "    qoi_sensitivity_outputs[realization_index, :] = C_seairpdq"
   ]
  },
  {
   "cell_type": "markdown",
   "metadata": {
    "slideshow": {
     "slide_type": "subslide"
    }
   },
   "source": [
    "Colhendo e tratando os resultados:"
   ]
  },
  {
   "cell_type": "code",
   "execution_count": 38,
   "metadata": {},
   "outputs": [
    {
     "data": {
      "text/html": [
       "<div>\n",
       "<style scoped>\n",
       "    .dataframe tbody tr th:only-of-type {\n",
       "        vertical-align: middle;\n",
       "    }\n",
       "\n",
       "    .dataframe tbody tr th {\n",
       "        vertical-align: top;\n",
       "    }\n",
       "\n",
       "    .dataframe thead th {\n",
       "        text-align: right;\n",
       "    }\n",
       "</style>\n",
       "<table border=\"1\" class=\"dataframe\">\n",
       "  <thead>\n",
       "    <tr style=\"text-align: right;\">\n",
       "      <th></th>\n",
       "      <th>Time (days)</th>\n",
       "      <th>$\\beta$</th>\n",
       "      <th>$\\omega$</th>\n",
       "      <th>$d_P$</th>\n",
       "      <th>$d_I$</th>\n",
       "      <th>$\\gamma_P$</th>\n",
       "      <th>$\\mu$</th>\n",
       "      <th>$\\gamma_I$</th>\n",
       "      <th>$\\gamma_A$</th>\n",
       "      <th>$\\epsilon_I$</th>\n",
       "      <th>$\\rho$</th>\n",
       "      <th>$\\sigma$</th>\n",
       "    </tr>\n",
       "  </thead>\n",
       "  <tbody>\n",
       "    <tr>\n",
       "      <th>1</th>\n",
       "      <td>1.0</td>\n",
       "      <td>0.0166715</td>\n",
       "      <td>0.00282906</td>\n",
       "      <td>3.47047e-09</td>\n",
       "      <td>0.00826457</td>\n",
       "      <td>7.83456e-06</td>\n",
       "      <td>0</td>\n",
       "      <td>0.0227338</td>\n",
       "      <td>6.75496e-05</td>\n",
       "      <td>0.685826</td>\n",
       "      <td>0.137916</td>\n",
       "      <td>0.125683</td>\n",
       "    </tr>\n",
       "    <tr>\n",
       "      <th>2</th>\n",
       "      <td>2.0</td>\n",
       "      <td>0.0493075</td>\n",
       "      <td>0.0050498</td>\n",
       "      <td>9.38692e-10</td>\n",
       "      <td>0.0126052</td>\n",
       "      <td>1.63113e-06</td>\n",
       "      <td>0</td>\n",
       "      <td>0.0349877</td>\n",
       "      <td>0.000358698</td>\n",
       "      <td>0.501205</td>\n",
       "      <td>0.213101</td>\n",
       "      <td>0.183384</td>\n",
       "    </tr>\n",
       "    <tr>\n",
       "      <th>3</th>\n",
       "      <td>3.0</td>\n",
       "      <td>0.0860937</td>\n",
       "      <td>0.0071013</td>\n",
       "      <td>5.40571e-09</td>\n",
       "      <td>0.0152203</td>\n",
       "      <td>9.6075e-07</td>\n",
       "      <td>0</td>\n",
       "      <td>0.0427025</td>\n",
       "      <td>0.00093343</td>\n",
       "      <td>0.383736</td>\n",
       "      <td>0.253649</td>\n",
       "      <td>0.210564</td>\n",
       "    </tr>\n",
       "    <tr>\n",
       "      <th>4</th>\n",
       "      <td>4.0</td>\n",
       "      <td>0.123435</td>\n",
       "      <td>0.00920434</td>\n",
       "      <td>6.96518e-10</td>\n",
       "      <td>0.0170498</td>\n",
       "      <td>7.86653e-07</td>\n",
       "      <td>0</td>\n",
       "      <td>0.0484621</td>\n",
       "      <td>0.00175454</td>\n",
       "      <td>0.302649</td>\n",
       "      <td>0.273685</td>\n",
       "      <td>0.223759</td>\n",
       "    </tr>\n",
       "    <tr>\n",
       "      <th>5</th>\n",
       "      <td>5.0</td>\n",
       "      <td>0.160405</td>\n",
       "      <td>0.0114337</td>\n",
       "      <td>2.36934e-09</td>\n",
       "      <td>0.0185082</td>\n",
       "      <td>1.37769e-06</td>\n",
       "      <td>0</td>\n",
       "      <td>0.0534243</td>\n",
       "      <td>0.00278934</td>\n",
       "      <td>0.242511</td>\n",
       "      <td>0.280458</td>\n",
       "      <td>0.230468</td>\n",
       "    </tr>\n",
       "    <tr>\n",
       "      <th>...</th>\n",
       "      <td>...</td>\n",
       "      <td>...</td>\n",
       "      <td>...</td>\n",
       "      <td>...</td>\n",
       "      <td>...</td>\n",
       "      <td>...</td>\n",
       "      <td>...</td>\n",
       "      <td>...</td>\n",
       "      <td>...</td>\n",
       "      <td>...</td>\n",
       "      <td>...</td>\n",
       "      <td>...</td>\n",
       "    </tr>\n",
       "    <tr>\n",
       "      <th>188</th>\n",
       "      <td>188.0</td>\n",
       "      <td>0.259246</td>\n",
       "      <td>0.100768</td>\n",
       "      <td>1.41549e-06</td>\n",
       "      <td>0.0075923</td>\n",
       "      <td>0.000269704</td>\n",
       "      <td>0</td>\n",
       "      <td>0.0553036</td>\n",
       "      <td>0.00656876</td>\n",
       "      <td>0.0722155</td>\n",
       "      <td>0.473085</td>\n",
       "      <td>0.0249509</td>\n",
       "    </tr>\n",
       "    <tr>\n",
       "      <th>189</th>\n",
       "      <td>189.0</td>\n",
       "      <td>0.25926</td>\n",
       "      <td>0.100786</td>\n",
       "      <td>1.52264e-06</td>\n",
       "      <td>0.00759399</td>\n",
       "      <td>0.000269566</td>\n",
       "      <td>0</td>\n",
       "      <td>0.0552911</td>\n",
       "      <td>0.00660614</td>\n",
       "      <td>0.0723224</td>\n",
       "      <td>0.472905</td>\n",
       "      <td>0.0249644</td>\n",
       "    </tr>\n",
       "    <tr>\n",
       "      <th>190</th>\n",
       "      <td>190.0</td>\n",
       "      <td>0.259274</td>\n",
       "      <td>0.100804</td>\n",
       "      <td>1.62266e-06</td>\n",
       "      <td>0.00759558</td>\n",
       "      <td>0.000269424</td>\n",
       "      <td>0</td>\n",
       "      <td>0.0552793</td>\n",
       "      <td>0.00664267</td>\n",
       "      <td>0.0724276</td>\n",
       "      <td>0.472729</td>\n",
       "      <td>0.0249771</td>\n",
       "    </tr>\n",
       "    <tr>\n",
       "      <th>191</th>\n",
       "      <td>191.0</td>\n",
       "      <td>0.259287</td>\n",
       "      <td>0.100821</td>\n",
       "      <td>1.71472e-06</td>\n",
       "      <td>0.00759711</td>\n",
       "      <td>0.000269254</td>\n",
       "      <td>0</td>\n",
       "      <td>0.0552682</td>\n",
       "      <td>0.0066784</td>\n",
       "      <td>0.072531</td>\n",
       "      <td>0.472557</td>\n",
       "      <td>0.0249892</td>\n",
       "    </tr>\n",
       "    <tr>\n",
       "      <th>192</th>\n",
       "      <td>192.0</td>\n",
       "      <td>0.2593</td>\n",
       "      <td>0.100839</td>\n",
       "      <td>1.77479e-06</td>\n",
       "      <td>0.00759859</td>\n",
       "      <td>0.000269067</td>\n",
       "      <td>0</td>\n",
       "      <td>0.0552577</td>\n",
       "      <td>0.00671333</td>\n",
       "      <td>0.0726325</td>\n",
       "      <td>0.472388</td>\n",
       "      <td>0.0250006</td>\n",
       "    </tr>\n",
       "  </tbody>\n",
       "</table>\n",
       "<p>192 rows × 12 columns</p>\n",
       "</div>"
      ],
      "text/plain": [
       "     Time (days)    $\\beta$    $\\omega$        $d_P$       $d_I$   $\\gamma_P$  \\\n",
       "1            1.0  0.0166715  0.00282906  3.47047e-09  0.00826457  7.83456e-06   \n",
       "2            2.0  0.0493075   0.0050498  9.38692e-10   0.0126052  1.63113e-06   \n",
       "3            3.0  0.0860937   0.0071013  5.40571e-09   0.0152203   9.6075e-07   \n",
       "4            4.0   0.123435  0.00920434  6.96518e-10   0.0170498  7.86653e-07   \n",
       "5            5.0   0.160405   0.0114337  2.36934e-09   0.0185082  1.37769e-06   \n",
       "..           ...        ...         ...          ...         ...          ...   \n",
       "188        188.0   0.259246    0.100768  1.41549e-06   0.0075923  0.000269704   \n",
       "189        189.0    0.25926    0.100786  1.52264e-06  0.00759399  0.000269566   \n",
       "190        190.0   0.259274    0.100804  1.62266e-06  0.00759558  0.000269424   \n",
       "191        191.0   0.259287    0.100821  1.71472e-06  0.00759711  0.000269254   \n",
       "192        192.0     0.2593    0.100839  1.77479e-06  0.00759859  0.000269067   \n",
       "\n",
       "    $\\mu$ $\\gamma_I$   $\\gamma_A$ $\\epsilon_I$    $\\rho$   $\\sigma$  \n",
       "1       0  0.0227338  6.75496e-05     0.685826  0.137916   0.125683  \n",
       "2       0  0.0349877  0.000358698     0.501205  0.213101   0.183384  \n",
       "3       0  0.0427025   0.00093343     0.383736  0.253649   0.210564  \n",
       "4       0  0.0484621   0.00175454     0.302649  0.273685   0.223759  \n",
       "5       0  0.0534243   0.00278934     0.242511  0.280458   0.230468  \n",
       "..    ...        ...          ...          ...       ...        ...  \n",
       "188     0  0.0553036   0.00656876    0.0722155  0.473085  0.0249509  \n",
       "189     0  0.0552911   0.00660614    0.0723224  0.472905  0.0249644  \n",
       "190     0  0.0552793   0.00664267    0.0724276  0.472729  0.0249771  \n",
       "191     0  0.0552682    0.0066784     0.072531  0.472557  0.0249892  \n",
       "192     0  0.0552577   0.00671333    0.0726325  0.472388  0.0250006  \n",
       "\n",
       "[192 rows x 12 columns]"
      ]
     },
     "execution_count": 38,
     "metadata": {},
     "output_type": "execute_result"
    }
   ],
   "source": [
    "from SALib.analyze.morris import analyze as ee_analyze\n",
    "\n",
    "Si_list = list()\n",
    "df_Si = pd.DataFrame(columns=['Time (days)', *problem_info['names']])\n",
    "df_Si['Time (days)'] = data_time\n",
    "for experimental_point in range(num_of_experimental_points):\n",
    "    Si = ee_analyze(problem_info, parameter_values, qoi_sensitivity_outputs[:, experimental_point], num_levels=grid_level, seed=seed)\n",
    "    Si['mu_star_normalized'] = Si['mu_star'] / Si['mu_star'].sum()\n",
    "    Si_list.append(Si)\n",
    "    for idx, param_name in enumerate(problem_info['names']):\n",
    "        df_Si.loc[experimental_point, param_name] = Si['mu_star_normalized'][idx]\n",
    "\n",
    "df_Si.sort_values(by='Time (days)', inplace=True)\n",
    "df_Si.drop(index=0, inplace=True)\n",
    "df_Si"
   ]
  },
  {
   "cell_type": "markdown",
   "metadata": {
    "slideshow": {
     "slide_type": "subslide"
    }
   },
   "source": [
    "Visualizando:"
   ]
  },
  {
   "cell_type": "code",
   "execution_count": 39,
   "metadata": {},
   "outputs": [
    {
     "data": {
      "image/png": "[encoded data removed]",
      "text/plain": [
       "<Figure size 1440x432 with 1 Axes>"
      ]
     },
     "metadata": {
      "needs_background": "light"
     },
     "output_type": "display_data"
    }
   ],
   "source": [
    "fig = plt.figure()\n",
    "ax = plt.subplot(111)\n",
    "day_step_to_plot = 5\n",
    "df_Si[::day_step_to_plot].plot.bar(x='Time (days)', rot=90, width=0.9, figsize=(20, 6), stacked=True, ax=ax)\n",
    "plt.ylabel(r\"Normalized $s^*$\")\n",
    "\n",
    "plt.ylim([0, 1])\n",
    "ax.legend(loc='upper center', bbox_to_anchor=(0.5, 1.15), ncol=len(problem_info['names']), fancybox=True, shadow=True)\n",
    "\n",
    "plt.tight_layout()\n",
    "plt.show()"
   ]
  },
  {
   "cell_type": "markdown",
   "metadata": {
    "slideshow": {
     "slide_type": "subslide"
    }
   },
   "source": [
    "## Perguntas? Comentários?"
   ]
  },
  {
   "cell_type": "markdown",
   "metadata": {
    "slideshow": {
     "slide_type": "slide"
    }
   },
   "source": [
    "## Calibração Bayesiana com o PyMC3"
   ]
  },
  {
   "cell_type": "markdown",
   "metadata": {
    "slideshow": {
     "slide_type": "subslide"
    }
   },
   "source": [
    "### Calibração Bayesiana com o PyMC3\n",
    "\n",
    "* Temos um modelo computacional e acesso a seus diversos fatores\n",
    "* Temos dados observados\n",
    "* Podemos realizar, com Python, uma calibração Bayesiana do modelo para estimar as incertezas?\n",
    "* Sim, e aqui é onde o `PyMC3` entra na roda!"
   ]
  },
  {
   "cell_type": "markdown",
   "metadata": {
    "slideshow": {
     "slide_type": "subslide"
    }
   },
   "source": [
    "### Ingredientes (em termos de modelagem computacional)\n",
    "\n",
    "Os requerimentos são diferentes em relação a calibrações determinísticas:\n",
    "\n",
    "* Fundamentalmente, as simulações de Monte Carlo \"solucionam\" o teorema de Bayes para as *posterioris*\n",
    "\\begin{equation}\n",
    "\\pi_{\\text {posterior}}(\\boldsymbol{\\theta} \\mid \\boldsymbol{y})=\\frac{\\pi_{\\text {likelihood}}(\\boldsymbol{y} \\mid \\boldsymbol{\\theta}) \\pi_{\\text {prior }}(\\boldsymbol{\\theta})}{\\pi_{\\text {evidence}}(\\boldsymbol{y})}\n",
    "\\end{equation}\n",
    "\n",
    "* Para realizar as simulações de Monte Carlo e obter as posterioris, devemos fornecer (com base no nosso conhecimento do problema) as *prioris* dos parâmetros e a *likelihood* das observações. No nosso caso:\n",
    "\\begin{equation}\n",
    "\\pi_{\\text {likelihood}}(\\boldsymbol{y} \\mid \\boldsymbol{\\theta})=\\prod_{j \\in\\{C, D\\}} \\frac{1}{\\sigma_{j} \\sqrt{2 \\pi}} \\exp \\left(-\\frac{1}{2} \\sum_{i=1}^{n}\\left(\\frac{y^{(j)}\\left(t_{i}\\right)-y_{\\text {model }}^{(j)}\\left(t_{i}\\right)}{\\sigma_{j}}\\right)^{2}\\right)\n",
    "\\end{equation}\n",
    "\n",
    "* Novamente, devemos mapear as estimativas do modelo com os dados observados"
   ]
  },
  {
   "cell_type": "markdown",
   "metadata": {
    "slideshow": {
     "slide_type": "subslide"
    }
   },
   "source": [
    "### Ingredientes (em termos de implementação)\n",
    "\n",
    "E o que necessitamos, em termos de código, para rodar uma calibração Bayesiana com o `PyMC3`?\n",
    "\n",
    "* Devemos possuir uma função que \"rode\" nosso modelo e tenha a saída alinhada com os dados observados\n",
    "\n",
    "* Essa função deve ser capaz de parametrizar a simulação pelos fatores do modelo\n",
    "\n",
    "* Em suma, precisamos de um *wrapper* para a simulação determinística (tipo *black-box*). Algo como\n",
    "\n",
    "```python\n",
    "def simulation_wrapper(parameter_1, parameter_2, ...):\n",
    "    ...\n",
    "    return simulation_result\n",
    "```\n",
    "com `simulation_result` alinhado com os dados observados."
   ]
  },
  {
   "cell_type": "markdown",
   "metadata": {
    "slideshow": {
     "slide_type": "subslide"
    }
   },
   "source": [
    "Para fins didáticos, vamos antes ver antes como seria com um exemplo simples: isso mesmo, Lotka-Volterra. Sistema presa-predados com Lince (predador) e Lebres (presa), com dados da Hudson's Bay Company."
   ]
  },
  {
   "cell_type": "code",
   "execution_count": 41,
   "metadata": {},
   "outputs": [
    {
     "data": {
      "image/png": "[encoded data removed]",
      "text/plain": [
       "<Figure size 1080x540 with 1 Axes>"
      ]
     },
     "metadata": {
      "needs_background": "light"
     },
     "output_type": "display_data"
    }
   ],
   "source": [
    "years = np.arange(1900, 1921, 1)\n",
    "lynx_data = np.array([4.0, 6.1, 9.8, 35.2, 59.4, 41.7, 19.0, 13.0, 8.3, 9.1, 7.4,\n",
    "                8.0, 12.3, 19.5, 45.7, 51.1, 29.7, 15.8, 9.7, 10.1, 8.6])\n",
    "hare_data = np.array([30.0, 47.2, 70.2, 77.4, 36.3, 20.6, 18.1, 21.4, 22.0, 25.4,\n",
    "                 27.1, 40.3, 57.0, 76.6, 52.3, 19.5, 11.2, 7.6, 14.6, 16.2, 24.7])\n",
    "\n",
    "plt.figure(figsize=(15, 7.5))\n",
    "plt.plot(years, lynx_data, '-X', color='b', lw=3, label='Lynx')\n",
    "plt.plot(years, hare_data, '-o', color='g', lw=3, label='Hare')\n",
    "plt.xlim([1900, 1920])\n",
    "plt.xlabel('Year', fontsize=15)\n",
    "plt.ylabel('Population densities', fontsize=15)\n",
    "plt.xticks(years, rotation=45)\n",
    "plt.legend(shadow=True)\n",
    "plt.show()"
   ]
  },
  {
   "cell_type": "markdown",
   "metadata": {
    "slideshow": {
     "slide_type": "subslide"
    }
   },
   "source": [
    "Agora precisamos implementar o *wrapper*. Mais precisamente, precisamos definir um Custom `OP` com `theano`:"
   ]
  },
  {
   "cell_type": "code",
   "execution_count": 47,
   "metadata": {},
   "outputs": [],
   "source": [
    "import theano  # to control better pymc3 backend and write a wrapper\n",
    "import theano.tensor as t  # for the wrapper to a custom model to pymc3\n",
    "\n",
    "@theano.compile.ops.as_op(\n",
    "    itypes=[t.dvector, t.dscalar, t.dscalar, t.dscalar, t.dscalar, t.dscalar, t.dscalar], otypes=[t.dmatrix]\n",
    ")\n",
    "def lotka_volterra_ode_wrapper(time_exp, r, a, b, m, u0, v0):\n",
    "    time_span = (time_exp.min(), time_exp.max())\n",
    "\n",
    "    args = [r, a, b, m]\n",
    "    initial_conditions = np.array([u0, v0])\n",
    "    y_model = solve_ivp(\n",
    "        lotka_volterra_system, \n",
    "        time_span, \n",
    "        initial_conditions, \n",
    "        t_eval=time_exp, \n",
    "        method='LSODA',\n",
    "        args=args\n",
    "    )\n",
    "    simulated_time = y_model.t\n",
    "    simulated_ode_solution = y_model.y\n",
    "    simulated_qoi1, simulated_qoi2 = simulated_ode_solution\n",
    "\n",
    "    concatenate_simulated_qoi = np.vstack([simulated_qoi1, simulated_qoi2]).T\n",
    "\n",
    "    return concatenate_simulated_qoi"
   ]
  },
  {
   "cell_type": "markdown",
   "metadata": {
    "slideshow": {
     "slide_type": "subslide"
    }
   },
   "source": [
    "Finalmente, podemos implementar a calibração com o `pymc3`:"
   ]
  },
  {
   "cell_type": "code",
   "execution_count": 48,
   "metadata": {},
   "outputs": [
    {
     "name": "stdout",
     "output_type": "stream",
     "text": [
      "\n",
      "*** Performing Bayesian calibration ***\n",
      "-- Running Monte Carlo simulations:\n"
     ]
    },
    {
     "name": "stderr",
     "output_type": "stream",
     "text": [
      "Sample initial stage: ...\n"
     ]
    },
    {
     "ename": "KeyboardInterrupt",
     "evalue": "",
     "output_type": "error",
     "traceback": [
      "\u001b[0;31m---------------------------------------------------------------------------\u001b[0m",
      "\u001b[0;31mKeyboardInterrupt\u001b[0m                         Traceback (most recent call last)",
      "\u001b[0;32m<ipython-input-48-903404f8440a>\u001b[0m in \u001b[0;36m<module>\u001b[0;34m\u001b[0m\n\u001b[1;32m     69\u001b[0m \u001b[0;34m\u001b[0m\u001b[0m\n\u001b[1;32m     70\u001b[0m     seirdpq_trace_calibration = pm.sample_smc(\n\u001b[0;32m---> 71\u001b[0;31m         \u001b[0mdraws\u001b[0m\u001b[0;34m=\u001b[0m\u001b[0mdraws\u001b[0m\u001b[0;34m,\u001b[0m \u001b[0mn_steps\u001b[0m\u001b[0;34m=\u001b[0m\u001b[0;36m25\u001b[0m\u001b[0;34m,\u001b[0m \u001b[0mparallel\u001b[0m\u001b[0;34m=\u001b[0m\u001b[0;32mTrue\u001b[0m\u001b[0;34m,\u001b[0m \u001b[0mcores\u001b[0m\u001b[0;34m=\u001b[0m\u001b[0;36m4\u001b[0m\u001b[0;34m,\u001b[0m \u001b[0mprogressbar\u001b[0m\u001b[0;34m=\u001b[0m\u001b[0;32mTrue\u001b[0m\u001b[0;34m,\u001b[0m \u001b[0mrandom_seed\u001b[0m\u001b[0;34m=\u001b[0m\u001b[0mseed\u001b[0m\u001b[0;34m\u001b[0m\u001b[0;34m\u001b[0m\u001b[0m\n\u001b[0m\u001b[1;32m     72\u001b[0m     )\n\u001b[1;32m     73\u001b[0m \u001b[0;34m\u001b[0m\u001b[0m\n",
      "\u001b[0;32m~/Work/miniconda/envs/covid-presentation/lib/python3.6/site-packages/pymc3/smc/sample_smc.py\u001b[0m in \u001b[0;36msample_smc\u001b[0;34m(draws, kernel, n_steps, parallel, start, cores, tune_steps, p_acc_rate, threshold, epsilon, dist_func, sum_stat, progressbar, model, random_seed)\u001b[0m\n\u001b[1;32m    134\u001b[0m     \u001b[0m_log\u001b[0m\u001b[0;34m.\u001b[0m\u001b[0minfo\u001b[0m\u001b[0;34m(\u001b[0m\u001b[0;34m\"Sample initial stage: ...\"\u001b[0m\u001b[0;34m)\u001b[0m\u001b[0;34m\u001b[0m\u001b[0;34m\u001b[0m\u001b[0m\n\u001b[1;32m    135\u001b[0m     \u001b[0mstage\u001b[0m \u001b[0;34m=\u001b[0m \u001b[0;36m0\u001b[0m\u001b[0;34m\u001b[0m\u001b[0;34m\u001b[0m\u001b[0m\n\u001b[0;32m--> 136\u001b[0;31m     \u001b[0msmc\u001b[0m\u001b[0;34m.\u001b[0m\u001b[0minitialize_population\u001b[0m\u001b[0;34m(\u001b[0m\u001b[0;34m)\u001b[0m\u001b[0;34m\u001b[0m\u001b[0;34m\u001b[0m\u001b[0m\n\u001b[0m\u001b[1;32m    137\u001b[0m     \u001b[0msmc\u001b[0m\u001b[0;34m.\u001b[0m\u001b[0msetup_kernel\u001b[0m\u001b[0;34m(\u001b[0m\u001b[0;34m)\u001b[0m\u001b[0;34m\u001b[0m\u001b[0;34m\u001b[0m\u001b[0m\n\u001b[1;32m    138\u001b[0m     \u001b[0msmc\u001b[0m\u001b[0;34m.\u001b[0m\u001b[0minitialize_logp\u001b[0m\u001b[0;34m(\u001b[0m\u001b[0;34m)\u001b[0m\u001b[0;34m\u001b[0m\u001b[0;34m\u001b[0m\u001b[0m\n",
      "\u001b[0;32m~/Work/miniconda/envs/covid-presentation/lib/python3.6/site-packages/pymc3/smc/smc.py\u001b[0m in \u001b[0;36minitialize_population\u001b[0;34m(self)\u001b[0m\n\u001b[1;32m     92\u001b[0m         \u001b[0;32mif\u001b[0m \u001b[0mself\u001b[0m\u001b[0;34m.\u001b[0m\u001b[0mstart\u001b[0m \u001b[0;32mis\u001b[0m \u001b[0;32mNone\u001b[0m\u001b[0;34m:\u001b[0m\u001b[0;34m\u001b[0m\u001b[0;34m\u001b[0m\u001b[0m\n\u001b[1;32m     93\u001b[0m             init_rnd = sample_prior_predictive(\n\u001b[0;32m---> 94\u001b[0;31m                 \u001b[0mself\u001b[0m\u001b[0;34m.\u001b[0m\u001b[0mdraws\u001b[0m\u001b[0;34m,\u001b[0m \u001b[0mvar_names\u001b[0m\u001b[0;34m=\u001b[0m\u001b[0;34m[\u001b[0m\u001b[0mv\u001b[0m\u001b[0;34m.\u001b[0m\u001b[0mname\u001b[0m \u001b[0;32mfor\u001b[0m \u001b[0mv\u001b[0m \u001b[0;32min\u001b[0m \u001b[0mself\u001b[0m\u001b[0;34m.\u001b[0m\u001b[0mmodel\u001b[0m\u001b[0;34m.\u001b[0m\u001b[0munobserved_RVs\u001b[0m\u001b[0;34m]\u001b[0m\u001b[0;34m,\u001b[0m \u001b[0mmodel\u001b[0m\u001b[0;34m=\u001b[0m\u001b[0mself\u001b[0m\u001b[0;34m.\u001b[0m\u001b[0mmodel\u001b[0m\u001b[0;34m\u001b[0m\u001b[0;34m\u001b[0m\u001b[0m\n\u001b[0m\u001b[1;32m     95\u001b[0m             )\n\u001b[1;32m     96\u001b[0m         \u001b[0;32melse\u001b[0m\u001b[0;34m:\u001b[0m\u001b[0;34m\u001b[0m\u001b[0;34m\u001b[0m\u001b[0m\n",
      "\u001b[0;32m~/Work/miniconda/envs/covid-presentation/lib/python3.6/site-packages/pymc3/sampling.py\u001b[0m in \u001b[0;36msample_prior_predictive\u001b[0;34m(samples, model, vars, var_names, random_seed)\u001b[0m\n\u001b[1;32m   1493\u001b[0m     \u001b[0mnames\u001b[0m \u001b[0;34m=\u001b[0m \u001b[0mget_default_varnames\u001b[0m\u001b[0;34m(\u001b[0m\u001b[0mvars_\u001b[0m\u001b[0;34m,\u001b[0m \u001b[0minclude_transformed\u001b[0m\u001b[0;34m=\u001b[0m\u001b[0;32mFalse\u001b[0m\u001b[0;34m)\u001b[0m\u001b[0;34m\u001b[0m\u001b[0;34m\u001b[0m\u001b[0m\n\u001b[1;32m   1494\u001b[0m     \u001b[0;31m# draw_values fails with auto-transformed variables. transform them later!\u001b[0m\u001b[0;34m\u001b[0m\u001b[0;34m\u001b[0m\u001b[0;34m\u001b[0m\u001b[0m\n\u001b[0;32m-> 1495\u001b[0;31m     \u001b[0mvalues\u001b[0m \u001b[0;34m=\u001b[0m \u001b[0mdraw_values\u001b[0m\u001b[0;34m(\u001b[0m\u001b[0;34m[\u001b[0m\u001b[0mmodel\u001b[0m\u001b[0;34m[\u001b[0m\u001b[0mname\u001b[0m\u001b[0;34m]\u001b[0m \u001b[0;32mfor\u001b[0m \u001b[0mname\u001b[0m \u001b[0;32min\u001b[0m \u001b[0mnames\u001b[0m\u001b[0;34m]\u001b[0m\u001b[0;34m,\u001b[0m \u001b[0msize\u001b[0m\u001b[0;34m=\u001b[0m\u001b[0msamples\u001b[0m\u001b[0;34m)\u001b[0m\u001b[0;34m\u001b[0m\u001b[0;34m\u001b[0m\u001b[0m\n\u001b[0m\u001b[1;32m   1496\u001b[0m \u001b[0;34m\u001b[0m\u001b[0m\n\u001b[1;32m   1497\u001b[0m     \u001b[0mdata\u001b[0m \u001b[0;34m=\u001b[0m \u001b[0;34m{\u001b[0m\u001b[0mk\u001b[0m\u001b[0;34m:\u001b[0m \u001b[0mv\u001b[0m \u001b[0;32mfor\u001b[0m \u001b[0mk\u001b[0m\u001b[0;34m,\u001b[0m \u001b[0mv\u001b[0m \u001b[0;32min\u001b[0m \u001b[0mzip\u001b[0m\u001b[0;34m(\u001b[0m\u001b[0mnames\u001b[0m\u001b[0;34m,\u001b[0m \u001b[0mvalues\u001b[0m\u001b[0;34m)\u001b[0m\u001b[0;34m}\u001b[0m\u001b[0;34m\u001b[0m\u001b[0;34m\u001b[0m\u001b[0m\n",
      "\u001b[0;32m~/Work/miniconda/envs/covid-presentation/lib/python3.6/site-packages/pymc3/distributions/distribution.py\u001b[0m in \u001b[0;36mdraw_values\u001b[0;34m(params, point, size)\u001b[0m\n\u001b[1;32m    662\u001b[0m                                             \u001b[0mpoint\u001b[0m\u001b[0;34m=\u001b[0m\u001b[0mpoint\u001b[0m\u001b[0;34m,\u001b[0m\u001b[0;34m\u001b[0m\u001b[0;34m\u001b[0m\u001b[0m\n\u001b[1;32m    663\u001b[0m                                             \u001b[0mgivens\u001b[0m\u001b[0;34m=\u001b[0m\u001b[0mgivens\u001b[0m\u001b[0;34m.\u001b[0m\u001b[0mvalues\u001b[0m\u001b[0;34m(\u001b[0m\u001b[0;34m)\u001b[0m\u001b[0;34m,\u001b[0m\u001b[0;34m\u001b[0m\u001b[0;34m\u001b[0m\u001b[0m\n\u001b[0;32m--> 664\u001b[0;31m                                             size=size)\n\u001b[0m\u001b[1;32m    665\u001b[0m                         \u001b[0mevaluated\u001b[0m\u001b[0;34m[\u001b[0m\u001b[0mparam_idx\u001b[0m\u001b[0;34m]\u001b[0m \u001b[0;34m=\u001b[0m \u001b[0mdrawn\u001b[0m\u001b[0;34m[\u001b[0m\u001b[0;34m(\u001b[0m\u001b[0mparam\u001b[0m\u001b[0;34m,\u001b[0m \u001b[0msize\u001b[0m\u001b[0;34m)\u001b[0m\u001b[0;34m]\u001b[0m \u001b[0;34m=\u001b[0m \u001b[0mvalue\u001b[0m\u001b[0;34m\u001b[0m\u001b[0;34m\u001b[0m\u001b[0m\n\u001b[1;32m    666\u001b[0m                         \u001b[0mgivens\u001b[0m\u001b[0;34m[\u001b[0m\u001b[0mparam\u001b[0m\u001b[0;34m.\u001b[0m\u001b[0mname\u001b[0m\u001b[0;34m]\u001b[0m \u001b[0;34m=\u001b[0m \u001b[0;34m(\u001b[0m\u001b[0mparam\u001b[0m\u001b[0;34m,\u001b[0m \u001b[0mvalue\u001b[0m\u001b[0;34m)\u001b[0m\u001b[0;34m\u001b[0m\u001b[0;34m\u001b[0m\u001b[0m\n",
      "\u001b[0;32m~/Work/miniconda/envs/covid-presentation/lib/python3.6/site-packages/pymc3/distributions/distribution.py\u001b[0m in \u001b[0;36m_draw_value\u001b[0;34m(param, point, givens, size)\u001b[0m\n\u001b[1;32m    840\u001b[0m                 \u001b[0minput_vals\u001b[0m \u001b[0;34m=\u001b[0m \u001b[0;34m[\u001b[0m\u001b[0;34m]\u001b[0m\u001b[0;34m\u001b[0m\u001b[0;34m\u001b[0m\u001b[0m\n\u001b[1;32m    841\u001b[0m             \u001b[0mfunc\u001b[0m \u001b[0;34m=\u001b[0m \u001b[0m_compile_theano_function\u001b[0m\u001b[0;34m(\u001b[0m\u001b[0mparam\u001b[0m\u001b[0;34m,\u001b[0m \u001b[0minput_vars\u001b[0m\u001b[0;34m)\u001b[0m\u001b[0;34m\u001b[0m\u001b[0;34m\u001b[0m\u001b[0m\n\u001b[0;32m--> 842\u001b[0;31m             \u001b[0moutput\u001b[0m \u001b[0;34m=\u001b[0m \u001b[0mfunc\u001b[0m\u001b[0;34m(\u001b[0m\u001b[0;34m*\u001b[0m\u001b[0minput_vals\u001b[0m\u001b[0;34m)\u001b[0m\u001b[0;34m\u001b[0m\u001b[0;34m\u001b[0m\u001b[0m\n\u001b[0m\u001b[1;32m    843\u001b[0m             \u001b[0;32mreturn\u001b[0m \u001b[0moutput\u001b[0m\u001b[0;34m\u001b[0m\u001b[0;34m\u001b[0m\u001b[0m\n\u001b[1;32m    844\u001b[0m     \u001b[0;32mraise\u001b[0m \u001b[0mValueError\u001b[0m\u001b[0;34m(\u001b[0m\u001b[0;34m'Unexpected type in draw_value: %s'\u001b[0m \u001b[0;34m%\u001b[0m \u001b[0mtype\u001b[0m\u001b[0;34m(\u001b[0m\u001b[0mparam\u001b[0m\u001b[0;34m)\u001b[0m\u001b[0;34m)\u001b[0m\u001b[0;34m\u001b[0m\u001b[0;34m\u001b[0m\u001b[0m\n",
      "\u001b[0;32m~/.local/lib/python3.6/site-packages/numpy/lib/function_base.py\u001b[0m in \u001b[0;36m__call__\u001b[0;34m(self, *args, **kwargs)\u001b[0m\n\u001b[1;32m   2106\u001b[0m             \u001b[0mvargs\u001b[0m\u001b[0;34m.\u001b[0m\u001b[0mextend\u001b[0m\u001b[0;34m(\u001b[0m\u001b[0;34m[\u001b[0m\u001b[0mkwargs\u001b[0m\u001b[0;34m[\u001b[0m\u001b[0m_n\u001b[0m\u001b[0;34m]\u001b[0m \u001b[0;32mfor\u001b[0m \u001b[0m_n\u001b[0m \u001b[0;32min\u001b[0m \u001b[0mnames\u001b[0m\u001b[0;34m]\u001b[0m\u001b[0;34m)\u001b[0m\u001b[0;34m\u001b[0m\u001b[0;34m\u001b[0m\u001b[0m\n\u001b[1;32m   2107\u001b[0m \u001b[0;34m\u001b[0m\u001b[0m\n\u001b[0;32m-> 2108\u001b[0;31m         \u001b[0;32mreturn\u001b[0m \u001b[0mself\u001b[0m\u001b[0;34m.\u001b[0m\u001b[0m_vectorize_call\u001b[0m\u001b[0;34m(\u001b[0m\u001b[0mfunc\u001b[0m\u001b[0;34m=\u001b[0m\u001b[0mfunc\u001b[0m\u001b[0;34m,\u001b[0m \u001b[0margs\u001b[0m\u001b[0;34m=\u001b[0m\u001b[0mvargs\u001b[0m\u001b[0;34m)\u001b[0m\u001b[0;34m\u001b[0m\u001b[0;34m\u001b[0m\u001b[0m\n\u001b[0m\u001b[1;32m   2109\u001b[0m \u001b[0;34m\u001b[0m\u001b[0m\n\u001b[1;32m   2110\u001b[0m     \u001b[0;32mdef\u001b[0m \u001b[0m_get_ufunc_and_otypes\u001b[0m\u001b[0;34m(\u001b[0m\u001b[0mself\u001b[0m\u001b[0;34m,\u001b[0m \u001b[0mfunc\u001b[0m\u001b[0;34m,\u001b[0m \u001b[0margs\u001b[0m\u001b[0;34m)\u001b[0m\u001b[0;34m:\u001b[0m\u001b[0;34m\u001b[0m\u001b[0;34m\u001b[0m\u001b[0m\n",
      "\u001b[0;32m~/.local/lib/python3.6/site-packages/numpy/lib/function_base.py\u001b[0m in \u001b[0;36m_vectorize_call\u001b[0;34m(self, func, args)\u001b[0m\n\u001b[1;32m   2180\u001b[0m         \u001b[0;34m\"\"\"Vectorized call to `func` over positional `args`.\"\"\"\u001b[0m\u001b[0;34m\u001b[0m\u001b[0;34m\u001b[0m\u001b[0m\n\u001b[1;32m   2181\u001b[0m         \u001b[0;32mif\u001b[0m \u001b[0mself\u001b[0m\u001b[0;34m.\u001b[0m\u001b[0msignature\u001b[0m \u001b[0;32mis\u001b[0m \u001b[0;32mnot\u001b[0m \u001b[0;32mNone\u001b[0m\u001b[0;34m:\u001b[0m\u001b[0;34m\u001b[0m\u001b[0;34m\u001b[0m\u001b[0m\n\u001b[0;32m-> 2182\u001b[0;31m             \u001b[0mres\u001b[0m \u001b[0;34m=\u001b[0m \u001b[0mself\u001b[0m\u001b[0;34m.\u001b[0m\u001b[0m_vectorize_call_with_signature\u001b[0m\u001b[0;34m(\u001b[0m\u001b[0mfunc\u001b[0m\u001b[0;34m,\u001b[0m \u001b[0margs\u001b[0m\u001b[0;34m)\u001b[0m\u001b[0;34m\u001b[0m\u001b[0;34m\u001b[0m\u001b[0m\n\u001b[0m\u001b[1;32m   2183\u001b[0m         \u001b[0;32melif\u001b[0m \u001b[0;32mnot\u001b[0m \u001b[0margs\u001b[0m\u001b[0;34m:\u001b[0m\u001b[0;34m\u001b[0m\u001b[0;34m\u001b[0m\u001b[0m\n\u001b[1;32m   2184\u001b[0m             \u001b[0mres\u001b[0m \u001b[0;34m=\u001b[0m \u001b[0mfunc\u001b[0m\u001b[0;34m(\u001b[0m\u001b[0;34m)\u001b[0m\u001b[0;34m\u001b[0m\u001b[0;34m\u001b[0m\u001b[0m\n",
      "\u001b[0;32m~/.local/lib/python3.6/site-packages/numpy/lib/function_base.py\u001b[0m in \u001b[0;36m_vectorize_call_with_signature\u001b[0;34m(self, func, args)\u001b[0m\n\u001b[1;32m   2221\u001b[0m \u001b[0;34m\u001b[0m\u001b[0m\n\u001b[1;32m   2222\u001b[0m         \u001b[0;32mfor\u001b[0m \u001b[0mindex\u001b[0m \u001b[0;32min\u001b[0m \u001b[0mnp\u001b[0m\u001b[0;34m.\u001b[0m\u001b[0mndindex\u001b[0m\u001b[0;34m(\u001b[0m\u001b[0;34m*\u001b[0m\u001b[0mbroadcast_shape\u001b[0m\u001b[0;34m)\u001b[0m\u001b[0;34m:\u001b[0m\u001b[0;34m\u001b[0m\u001b[0;34m\u001b[0m\u001b[0m\n\u001b[0;32m-> 2223\u001b[0;31m             \u001b[0mresults\u001b[0m \u001b[0;34m=\u001b[0m \u001b[0mfunc\u001b[0m\u001b[0;34m(\u001b[0m\u001b[0;34m*\u001b[0m\u001b[0;34m(\u001b[0m\u001b[0marg\u001b[0m\u001b[0;34m[\u001b[0m\u001b[0mindex\u001b[0m\u001b[0;34m]\u001b[0m \u001b[0;32mfor\u001b[0m \u001b[0marg\u001b[0m \u001b[0;32min\u001b[0m \u001b[0margs\u001b[0m\u001b[0;34m)\u001b[0m\u001b[0;34m)\u001b[0m\u001b[0;34m\u001b[0m\u001b[0;34m\u001b[0m\u001b[0m\n\u001b[0m\u001b[1;32m   2224\u001b[0m \u001b[0;34m\u001b[0m\u001b[0m\n\u001b[1;32m   2225\u001b[0m             \u001b[0mn_results\u001b[0m \u001b[0;34m=\u001b[0m \u001b[0mlen\u001b[0m\u001b[0;34m(\u001b[0m\u001b[0mresults\u001b[0m\u001b[0;34m)\u001b[0m \u001b[0;32mif\u001b[0m \u001b[0misinstance\u001b[0m\u001b[0;34m(\u001b[0m\u001b[0mresults\u001b[0m\u001b[0;34m,\u001b[0m \u001b[0mtuple\u001b[0m\u001b[0;34m)\u001b[0m \u001b[0;32melse\u001b[0m \u001b[0;36m1\u001b[0m\u001b[0;34m\u001b[0m\u001b[0;34m\u001b[0m\u001b[0m\n",
      "\u001b[0;32m~/Work/miniconda/envs/covid-presentation/lib/python3.6/site-packages/theano/compile/function_module.py\u001b[0m in \u001b[0;36m__call__\u001b[0;34m(self, *args, **kwargs)\u001b[0m\n\u001b[1;32m    901\u001b[0m         \u001b[0;32mtry\u001b[0m\u001b[0;34m:\u001b[0m\u001b[0;34m\u001b[0m\u001b[0;34m\u001b[0m\u001b[0m\n\u001b[1;32m    902\u001b[0m             \u001b[0moutputs\u001b[0m \u001b[0;34m=\u001b[0m\u001b[0;31m\\\u001b[0m\u001b[0;34m\u001b[0m\u001b[0;34m\u001b[0m\u001b[0m\n\u001b[0;32m--> 903\u001b[0;31m                 \u001b[0mself\u001b[0m\u001b[0;34m.\u001b[0m\u001b[0mfn\u001b[0m\u001b[0;34m(\u001b[0m\u001b[0;34m)\u001b[0m \u001b[0;32mif\u001b[0m \u001b[0moutput_subset\u001b[0m \u001b[0;32mis\u001b[0m \u001b[0;32mNone\u001b[0m \u001b[0;32melse\u001b[0m\u001b[0;31m\\\u001b[0m\u001b[0;34m\u001b[0m\u001b[0;34m\u001b[0m\u001b[0m\n\u001b[0m\u001b[1;32m    904\u001b[0m                 \u001b[0mself\u001b[0m\u001b[0;34m.\u001b[0m\u001b[0mfn\u001b[0m\u001b[0;34m(\u001b[0m\u001b[0moutput_subset\u001b[0m\u001b[0;34m=\u001b[0m\u001b[0moutput_subset\u001b[0m\u001b[0;34m)\u001b[0m\u001b[0;34m\u001b[0m\u001b[0;34m\u001b[0m\u001b[0m\n\u001b[1;32m    905\u001b[0m         \u001b[0;32mexcept\u001b[0m \u001b[0mException\u001b[0m\u001b[0;34m:\u001b[0m\u001b[0;34m\u001b[0m\u001b[0;34m\u001b[0m\u001b[0m\n",
      "\u001b[0;32m~/Work/miniconda/envs/covid-presentation/lib/python3.6/site-packages/theano/gof/vm.py\u001b[0m in \u001b[0;36m__call__\u001b[0;34m(self)\u001b[0m\n\u001b[1;32m    299\u001b[0m                 for thunk, node, old_storage in zip(self.thunks, self.nodes,\n\u001b[1;32m    300\u001b[0m                                                     self.post_thunk_clear):\n\u001b[0;32m--> 301\u001b[0;31m                     \u001b[0mthunk\u001b[0m\u001b[0;34m(\u001b[0m\u001b[0;34m)\u001b[0m\u001b[0;34m\u001b[0m\u001b[0;34m\u001b[0m\u001b[0m\n\u001b[0m\u001b[1;32m    302\u001b[0m                     \u001b[0;32mfor\u001b[0m \u001b[0mold_s\u001b[0m \u001b[0;32min\u001b[0m \u001b[0mold_storage\u001b[0m\u001b[0;34m:\u001b[0m\u001b[0;34m\u001b[0m\u001b[0;34m\u001b[0m\u001b[0m\n\u001b[1;32m    303\u001b[0m                         \u001b[0mold_s\u001b[0m\u001b[0;34m[\u001b[0m\u001b[0;36m0\u001b[0m\u001b[0;34m]\u001b[0m \u001b[0;34m=\u001b[0m \u001b[0;32mNone\u001b[0m\u001b[0;34m\u001b[0m\u001b[0;34m\u001b[0m\u001b[0m\n",
      "\u001b[0;32m~/Work/miniconda/envs/covid-presentation/lib/python3.6/site-packages/theano/gof/op.py\u001b[0m in \u001b[0;36mrval\u001b[0;34m(p, i, o, n)\u001b[0m\n\u001b[1;32m    890\u001b[0m             \u001b[0;31m# default arguments are stored in the closure of `rval`\u001b[0m\u001b[0;34m\u001b[0m\u001b[0;34m\u001b[0m\u001b[0;34m\u001b[0m\u001b[0m\n\u001b[1;32m    891\u001b[0m             \u001b[0;32mdef\u001b[0m \u001b[0mrval\u001b[0m\u001b[0;34m(\u001b[0m\u001b[0mp\u001b[0m\u001b[0;34m=\u001b[0m\u001b[0mp\u001b[0m\u001b[0;34m,\u001b[0m \u001b[0mi\u001b[0m\u001b[0;34m=\u001b[0m\u001b[0mnode_input_storage\u001b[0m\u001b[0;34m,\u001b[0m \u001b[0mo\u001b[0m\u001b[0;34m=\u001b[0m\u001b[0mnode_output_storage\u001b[0m\u001b[0;34m,\u001b[0m \u001b[0mn\u001b[0m\u001b[0;34m=\u001b[0m\u001b[0mnode\u001b[0m\u001b[0;34m)\u001b[0m\u001b[0;34m:\u001b[0m\u001b[0;34m\u001b[0m\u001b[0;34m\u001b[0m\u001b[0m\n\u001b[0;32m--> 892\u001b[0;31m                 \u001b[0mr\u001b[0m \u001b[0;34m=\u001b[0m \u001b[0mp\u001b[0m\u001b[0;34m(\u001b[0m\u001b[0mn\u001b[0m\u001b[0;34m,\u001b[0m \u001b[0;34m[\u001b[0m\u001b[0mx\u001b[0m\u001b[0;34m[\u001b[0m\u001b[0;36m0\u001b[0m\u001b[0;34m]\u001b[0m \u001b[0;32mfor\u001b[0m \u001b[0mx\u001b[0m \u001b[0;32min\u001b[0m \u001b[0mi\u001b[0m\u001b[0;34m]\u001b[0m\u001b[0;34m,\u001b[0m \u001b[0mo\u001b[0m\u001b[0;34m)\u001b[0m\u001b[0;34m\u001b[0m\u001b[0;34m\u001b[0m\u001b[0m\n\u001b[0m\u001b[1;32m    893\u001b[0m                 \u001b[0;32mfor\u001b[0m \u001b[0mo\u001b[0m \u001b[0;32min\u001b[0m \u001b[0mnode\u001b[0m\u001b[0;34m.\u001b[0m\u001b[0moutputs\u001b[0m\u001b[0;34m:\u001b[0m\u001b[0;34m\u001b[0m\u001b[0;34m\u001b[0m\u001b[0m\n\u001b[1;32m    894\u001b[0m                     \u001b[0mcompute_map\u001b[0m\u001b[0;34m[\u001b[0m\u001b[0mo\u001b[0m\u001b[0;34m]\u001b[0m\u001b[0;34m[\u001b[0m\u001b[0;36m0\u001b[0m\u001b[0;34m]\u001b[0m \u001b[0;34m=\u001b[0m \u001b[0;32mTrue\u001b[0m\u001b[0;34m\u001b[0m\u001b[0;34m\u001b[0m\u001b[0m\n",
      "\u001b[0;32m~/Work/miniconda/envs/covid-presentation/lib/python3.6/site-packages/theano/compile/ops.py\u001b[0m in \u001b[0;36mperform\u001b[0;34m(self, node, inputs, outputs)\u001b[0m\n\u001b[1;32m    553\u001b[0m \u001b[0;34m\u001b[0m\u001b[0m\n\u001b[1;32m    554\u001b[0m     \u001b[0;32mdef\u001b[0m \u001b[0mperform\u001b[0m\u001b[0;34m(\u001b[0m\u001b[0mself\u001b[0m\u001b[0;34m,\u001b[0m \u001b[0mnode\u001b[0m\u001b[0;34m,\u001b[0m \u001b[0minputs\u001b[0m\u001b[0;34m,\u001b[0m \u001b[0moutputs\u001b[0m\u001b[0;34m)\u001b[0m\u001b[0;34m:\u001b[0m\u001b[0;34m\u001b[0m\u001b[0;34m\u001b[0m\u001b[0m\n\u001b[0;32m--> 555\u001b[0;31m         \u001b[0mouts\u001b[0m \u001b[0;34m=\u001b[0m \u001b[0mself\u001b[0m\u001b[0;34m.\u001b[0m\u001b[0m__fn\u001b[0m\u001b[0;34m(\u001b[0m\u001b[0;34m*\u001b[0m\u001b[0minputs\u001b[0m\u001b[0;34m)\u001b[0m\u001b[0;34m\u001b[0m\u001b[0;34m\u001b[0m\u001b[0m\n\u001b[0m\u001b[1;32m    556\u001b[0m         \u001b[0;32mif\u001b[0m \u001b[0;32mnot\u001b[0m \u001b[0misinstance\u001b[0m\u001b[0;34m(\u001b[0m\u001b[0mouts\u001b[0m\u001b[0;34m,\u001b[0m \u001b[0;34m(\u001b[0m\u001b[0mlist\u001b[0m\u001b[0;34m,\u001b[0m \u001b[0mtuple\u001b[0m\u001b[0;34m)\u001b[0m\u001b[0;34m)\u001b[0m\u001b[0;34m:\u001b[0m\u001b[0;34m\u001b[0m\u001b[0;34m\u001b[0m\u001b[0m\n\u001b[1;32m    557\u001b[0m             \u001b[0mouts\u001b[0m \u001b[0;34m=\u001b[0m \u001b[0;34m(\u001b[0m\u001b[0mouts\u001b[0m\u001b[0;34m,\u001b[0m\u001b[0;34m)\u001b[0m\u001b[0;34m\u001b[0m\u001b[0;34m\u001b[0m\u001b[0m\n",
      "\u001b[0;32m<ipython-input-47-c2501f4716e5>\u001b[0m in \u001b[0;36mlotka_volterra_ode_wrapper\u001b[0;34m(time_exp, r, a, b, m, u0, v0)\u001b[0m\n\u001b[1;32m     16\u001b[0m         \u001b[0mt_eval\u001b[0m\u001b[0;34m=\u001b[0m\u001b[0mtime_exp\u001b[0m\u001b[0;34m,\u001b[0m\u001b[0;34m\u001b[0m\u001b[0;34m\u001b[0m\u001b[0m\n\u001b[1;32m     17\u001b[0m         \u001b[0mmethod\u001b[0m\u001b[0;34m=\u001b[0m\u001b[0;34m'LSODA'\u001b[0m\u001b[0;34m,\u001b[0m\u001b[0;34m\u001b[0m\u001b[0;34m\u001b[0m\u001b[0m\n\u001b[0;32m---> 18\u001b[0;31m         \u001b[0margs\u001b[0m\u001b[0;34m=\u001b[0m\u001b[0margs\u001b[0m\u001b[0;34m\u001b[0m\u001b[0;34m\u001b[0m\u001b[0m\n\u001b[0m\u001b[1;32m     19\u001b[0m     )\n\u001b[1;32m     20\u001b[0m     \u001b[0msimulated_time\u001b[0m \u001b[0;34m=\u001b[0m \u001b[0my_model\u001b[0m\u001b[0;34m.\u001b[0m\u001b[0mt\u001b[0m\u001b[0;34m\u001b[0m\u001b[0;34m\u001b[0m\u001b[0m\n",
      "\u001b[0;32m~/.local/lib/python3.6/site-packages/scipy/integrate/_ivp/ivp.py\u001b[0m in \u001b[0;36msolve_ivp\u001b[0;34m(fun, t_span, y0, method, t_eval, dense_output, events, vectorized, args, **options)\u001b[0m\n\u001b[1;32m    619\u001b[0m             \u001b[0;31m# The value in t_eval equal to t will be included.\u001b[0m\u001b[0;34m\u001b[0m\u001b[0;34m\u001b[0m\u001b[0;34m\u001b[0m\u001b[0m\n\u001b[1;32m    620\u001b[0m             \u001b[0;32mif\u001b[0m \u001b[0msolver\u001b[0m\u001b[0;34m.\u001b[0m\u001b[0mdirection\u001b[0m \u001b[0;34m>\u001b[0m \u001b[0;36m0\u001b[0m\u001b[0;34m:\u001b[0m\u001b[0;34m\u001b[0m\u001b[0;34m\u001b[0m\u001b[0m\n\u001b[0;32m--> 621\u001b[0;31m                 \u001b[0mt_eval_i_new\u001b[0m \u001b[0;34m=\u001b[0m \u001b[0mnp\u001b[0m\u001b[0;34m.\u001b[0m\u001b[0msearchsorted\u001b[0m\u001b[0;34m(\u001b[0m\u001b[0mt_eval\u001b[0m\u001b[0;34m,\u001b[0m \u001b[0mt\u001b[0m\u001b[0;34m,\u001b[0m \u001b[0mside\u001b[0m\u001b[0;34m=\u001b[0m\u001b[0;34m'right'\u001b[0m\u001b[0;34m)\u001b[0m\u001b[0;34m\u001b[0m\u001b[0;34m\u001b[0m\u001b[0m\n\u001b[0m\u001b[1;32m    622\u001b[0m                 \u001b[0mt_eval_step\u001b[0m \u001b[0;34m=\u001b[0m \u001b[0mt_eval\u001b[0m\u001b[0;34m[\u001b[0m\u001b[0mt_eval_i\u001b[0m\u001b[0;34m:\u001b[0m\u001b[0mt_eval_i_new\u001b[0m\u001b[0;34m]\u001b[0m\u001b[0;34m\u001b[0m\u001b[0;34m\u001b[0m\u001b[0m\n\u001b[1;32m    623\u001b[0m             \u001b[0;32melse\u001b[0m\u001b[0;34m:\u001b[0m\u001b[0;34m\u001b[0m\u001b[0;34m\u001b[0m\u001b[0m\n",
      "\u001b[0;32m<__array_function__ internals>\u001b[0m in \u001b[0;36msearchsorted\u001b[0;34m(*args, **kwargs)\u001b[0m\n",
      "\u001b[0;32m~/.local/lib/python3.6/site-packages/numpy/core/fromnumeric.py\u001b[0m in \u001b[0;36msearchsorted\u001b[0;34m(a, v, side, sorter)\u001b[0m\n\u001b[1;32m   1341\u001b[0m \u001b[0;34m\u001b[0m\u001b[0m\n\u001b[1;32m   1342\u001b[0m     \"\"\"\n\u001b[0;32m-> 1343\u001b[0;31m     \u001b[0;32mreturn\u001b[0m \u001b[0m_wrapfunc\u001b[0m\u001b[0;34m(\u001b[0m\u001b[0ma\u001b[0m\u001b[0;34m,\u001b[0m \u001b[0;34m'searchsorted'\u001b[0m\u001b[0;34m,\u001b[0m \u001b[0mv\u001b[0m\u001b[0;34m,\u001b[0m \u001b[0mside\u001b[0m\u001b[0;34m=\u001b[0m\u001b[0mside\u001b[0m\u001b[0;34m,\u001b[0m \u001b[0msorter\u001b[0m\u001b[0;34m=\u001b[0m\u001b[0msorter\u001b[0m\u001b[0;34m)\u001b[0m\u001b[0;34m\u001b[0m\u001b[0;34m\u001b[0m\u001b[0m\n\u001b[0m\u001b[1;32m   1344\u001b[0m \u001b[0;34m\u001b[0m\u001b[0m\n\u001b[1;32m   1345\u001b[0m \u001b[0;34m\u001b[0m\u001b[0m\n",
      "\u001b[0;32m~/.local/lib/python3.6/site-packages/numpy/core/fromnumeric.py\u001b[0m in \u001b[0;36m_wrapfunc\u001b[0;34m(obj, method, *args, **kwds)\u001b[0m\n\u001b[1;32m     51\u001b[0m \u001b[0;34m\u001b[0m\u001b[0m\n\u001b[1;32m     52\u001b[0m \u001b[0;32mdef\u001b[0m \u001b[0m_wrapfunc\u001b[0m\u001b[0;34m(\u001b[0m\u001b[0mobj\u001b[0m\u001b[0;34m,\u001b[0m \u001b[0mmethod\u001b[0m\u001b[0;34m,\u001b[0m \u001b[0;34m*\u001b[0m\u001b[0margs\u001b[0m\u001b[0;34m,\u001b[0m \u001b[0;34m**\u001b[0m\u001b[0mkwds\u001b[0m\u001b[0;34m)\u001b[0m\u001b[0;34m:\u001b[0m\u001b[0;34m\u001b[0m\u001b[0;34m\u001b[0m\u001b[0m\n\u001b[0;32m---> 53\u001b[0;31m     \u001b[0mbound\u001b[0m \u001b[0;34m=\u001b[0m \u001b[0mgetattr\u001b[0m\u001b[0;34m(\u001b[0m\u001b[0mobj\u001b[0m\u001b[0;34m,\u001b[0m \u001b[0mmethod\u001b[0m\u001b[0;34m,\u001b[0m \u001b[0;32mNone\u001b[0m\u001b[0;34m)\u001b[0m\u001b[0;34m\u001b[0m\u001b[0;34m\u001b[0m\u001b[0m\n\u001b[0m\u001b[1;32m     54\u001b[0m     \u001b[0;32mif\u001b[0m \u001b[0mbound\u001b[0m \u001b[0;32mis\u001b[0m \u001b[0;32mNone\u001b[0m\u001b[0;34m:\u001b[0m\u001b[0;34m\u001b[0m\u001b[0;34m\u001b[0m\u001b[0m\n\u001b[1;32m     55\u001b[0m         \u001b[0;32mreturn\u001b[0m \u001b[0m_wrapit\u001b[0m\u001b[0;34m(\u001b[0m\u001b[0mobj\u001b[0m\u001b[0;34m,\u001b[0m \u001b[0mmethod\u001b[0m\u001b[0;34m,\u001b[0m \u001b[0;34m*\u001b[0m\u001b[0margs\u001b[0m\u001b[0;34m,\u001b[0m \u001b[0;34m**\u001b[0m\u001b[0mkwds\u001b[0m\u001b[0;34m)\u001b[0m\u001b[0;34m\u001b[0m\u001b[0;34m\u001b[0m\u001b[0m\n",
      "\u001b[0;31mKeyboardInterrupt\u001b[0m: "
     ]
    }
   ],
   "source": [
    "import pymc3 as pm  # for uncertainty quantification and model calibration\n",
    "import time  # vamos monitorar o tempo de execução\n",
    "\n",
    "observations_to_fit = np.vstack([hare_data, lynx_data]).T\n",
    "years = np.arange(1900, 1921, 1, dtype=np.float64)\n",
    "\n",
    "print(\"\\n*** Performing Bayesian calibration ***\")\n",
    "\n",
    "print(\"-- Running Monte Carlo simulations:\")\n",
    "draws = 2000\n",
    "start_time = time.time()\n",
    "percent_calibration = 0.95\n",
    "with pm.Model() as model_mcmc:\n",
    "    # Prior distributions for the model's parameters\n",
    "    r = pm.Uniform(\n",
    "        \"r\", \n",
    "        lower=0, \n",
    "        upper=2,\n",
    "    )\n",
    "    a = pm.Uniform(\n",
    "        \"a\", \n",
    "        lower=0, \n",
    "        upper=2,\n",
    "    )\n",
    "    b = pm.Uniform(\n",
    "        \"b\", \n",
    "        lower=0, \n",
    "        upper=2,\n",
    "    )\n",
    "    m = pm.Uniform(\n",
    "        \"m\", \n",
    "        lower=0, \n",
    "        upper=2,\n",
    "    )\n",
    "    \n",
    "    # Prioris for Initial Conditions\n",
    "    u0 = pm.Uniform(\n",
    "        \"u0\",\n",
    "        # Veja no gráfico dos dados\n",
    "        lower=20, \n",
    "        upper=50,\n",
    "    )\n",
    "    v0 = pm.Uniform(\n",
    "        \"v0\",\n",
    "        # Veja no gráfico dos dados\n",
    "        lower=0, \n",
    "        upper=10,\n",
    "    )\n",
    "\n",
    "    standard_deviation = pm.Uniform(\"std_deviation\", lower=1e-5, upper=2, shape=2)  # note 'shape' here\n",
    "\n",
    "    # Defining the deterministic formulation of the problem\n",
    "    fitting_model = pm.Deterministic(\n",
    "        \"lotka_volterra_model\",\n",
    "        lotka_volterra_ode_wrapper(\n",
    "            theano.shared(years),\n",
    "            r,\n",
    "            a,\n",
    "            b,\n",
    "            m,\n",
    "            u0,\n",
    "            v0\n",
    "        ),\n",
    "    )\n",
    "    \n",
    "    likelihood_model = pm.Normal(\n",
    "        \"likelihood_model\", mu=fitting_model, sigma=standard_deviation, observed=observations_to_fit\n",
    "    )\n",
    "\n",
    "    seirdpq_trace_calibration = pm.sample_smc(\n",
    "        draws=draws, n_steps=25, parallel=True, cores=4, progressbar=True, random_seed=seed\n",
    "    )\n",
    "\n",
    "duration = time.time() - start_time\n",
    "\n",
    "print(f\"-- Monte Carlo simulations done in {duration / 60:.3f} minutes\")"
   ]
  },
  {
   "cell_type": "markdown",
   "metadata": {
    "slideshow": {
     "slide_type": "slide"
    }
   },
   "source": [
    "## Predições com incertezas nos parâmetros utilizando o PyMC3"
   ]
  },
  {
   "cell_type": "markdown",
   "metadata": {
    "slideshow": {
     "slide_type": "slide"
    }
   },
   "source": [
    "## Considerações finais"
   ]
  }
 ],
 "metadata": {
  "celltoolbar": "Slideshow",
  "kernelspec": {
   "display_name": "Python 3",
   "language": "python",
   "name": "python3"
  },
  "language_info": {
   "codemirror_mode": {
    "name": "ipython",
    "version": 3
   },
   "file_extension": ".py",
   "mimetype": "text/x-python",
   "name": "python",
   "nbconvert_exporter": "python",
   "pygments_lexer": "ipython3",
   "version": "3.6.11"
  },
  "rise": {
   "autolaunch": true,
   "enable_chalkboard": true,
   "scroll": true,
   "theme": "simple"
  }
 },
 "nbformat": 4,
 "nbformat_minor": 4
}
